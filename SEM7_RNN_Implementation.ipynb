{
  "cells": [
    {
      "cell_type": "markdown",
      "metadata": {
        "id": "view-in-github",
        "colab_type": "text"
      },
      "source": [
        "<a href=\"https://colab.research.google.com/github/Shreyash54/HealthMisinfoDetection/blob/main/SEM7_RNN_Implementation.ipynb\" target=\"_parent\"><img src=\"https://colab.research.google.com/assets/colab-badge.svg\" alt=\"Open In Colab\"/></a>"
      ]
    },
    {
      "cell_type": "code",
      "execution_count": null,
      "metadata": {
        "id": "2f8FmGXnLcSV"
      },
      "outputs": [],
      "source": [
        "import pandas as pd"
      ]
    },
    {
      "cell_type": "code",
      "execution_count": null,
      "metadata": {
        "id": "yOLizt1-LcSX",
        "outputId": "89945a0f-3e95-4dc7-fa66-e19e6468a4fc"
      },
      "outputs": [
        {
          "data": {
            "text/html": [
              "<div>\n",
              "<style scoped>\n",
              "    .dataframe tbody tr th:only-of-type {\n",
              "        vertical-align: middle;\n",
              "    }\n",
              "\n",
              "    .dataframe tbody tr th {\n",
              "        vertical-align: top;\n",
              "    }\n",
              "\n",
              "    .dataframe thead th {\n",
              "        text-align: right;\n",
              "    }\n",
              "</style>\n",
              "<table border=\"1\" class=\"dataframe\">\n",
              "  <thead>\n",
              "    <tr style=\"text-align: right;\">\n",
              "      <th></th>\n",
              "      <th>id</th>\n",
              "      <th>statement</th>\n",
              "      <th>description</th>\n",
              "      <th>rating</th>\n",
              "    </tr>\n",
              "  </thead>\n",
              "  <tbody>\n",
              "    <tr>\n",
              "      <th>0</th>\n",
              "      <td>6771.0</td>\n",
              "      <td>Dawn dish soap contains ammonia even though it...</td>\n",
              "      <td>Could Mixing Dawn Dish Soap with Clorox Bleach...</td>\n",
              "      <td>mixture</td>\n",
              "    </tr>\n",
              "    <tr>\n",
              "      <th>1</th>\n",
              "      <td>2468.0</td>\n",
              "      <td>Is blue light harmful to our eyes?</td>\n",
              "      <td>It seems reasonable to reduce exposure to blue...</td>\n",
              "      <td>unproven</td>\n",
              "    </tr>\n",
              "    <tr>\n",
              "      <th>2</th>\n",
              "      <td>1929.0</td>\n",
              "      <td>Are the 'Winter Blues' real?</td>\n",
              "      <td>I've recently &lt;a href=\"https://www.sciencedail...</td>\n",
              "      <td>TRUE</td>\n",
              "    </tr>\n",
              "    <tr>\n",
              "      <th>3</th>\n",
              "      <td>1872.0</td>\n",
              "      <td>Is air pollution linked to greater risk of dem...</td>\n",
              "      <td>&lt;a href=\"https://www.theguardian.com/environme...</td>\n",
              "      <td>TRUE</td>\n",
              "    </tr>\n",
              "    <tr>\n",
              "      <th>4</th>\n",
              "      <td>1956.0</td>\n",
              "      <td>Can eccentric exercises cause human hyperplasia?</td>\n",
              "      <td>With concentric regular exercises muscle hyper...</td>\n",
              "      <td>unproven</td>\n",
              "    </tr>\n",
              "  </tbody>\n",
              "</table>\n",
              "</div>"
            ],
            "text/plain": [
              "       id                                          statement  \\\n",
              "0  6771.0  Dawn dish soap contains ammonia even though it...   \n",
              "1  2468.0                 Is blue light harmful to our eyes?   \n",
              "2  1929.0                       Are the 'Winter Blues' real?   \n",
              "3  1872.0  Is air pollution linked to greater risk of dem...   \n",
              "4  1956.0   Can eccentric exercises cause human hyperplasia?   \n",
              "\n",
              "                                         description    rating  \n",
              "0  Could Mixing Dawn Dish Soap with Clorox Bleach...   mixture  \n",
              "1  It seems reasonable to reduce exposure to blue...  unproven  \n",
              "2  I've recently <a href=\"https://www.sciencedail...      TRUE  \n",
              "3  <a href=\"https://www.theguardian.com/environme...      TRUE  \n",
              "4  With concentric regular exercises muscle hyper...  unproven  "
            ]
          },
          "execution_count": 2,
          "metadata": {},
          "output_type": "execute_result"
        }
      ],
      "source": [
        "dataframe = pd.read_csv('cleaned_dataset.csv')\n",
        "dataframe.head()"
      ]
    },
    {
      "cell_type": "code",
      "execution_count": null,
      "metadata": {
        "id": "rR032ZSRLcSY"
      },
      "outputs": [],
      "source": [
        "dataframe['rating'] = dataframe['rating'].replace('mixture', 'TRUE')\n",
        "dataframe['rating'] = dataframe['rating'].replace('unproven', 'TRUE')\n",
        "dataframe['rating'] = dataframe['rating'].replace('mostly-true', 'TRUE')\n",
        "dataframe['rating'] = dataframe['rating'].replace('mostly-false', 'FALSE')"
      ]
    },
    {
      "cell_type": "code",
      "execution_count": null,
      "metadata": {
        "id": "zpr0d9rILcSZ",
        "outputId": "791b4bba-c4d5-466c-e6b7-45bc3fa2656c"
      },
      "outputs": [
        {
          "data": {
            "text/html": [
              "<div>\n",
              "<style scoped>\n",
              "    .dataframe tbody tr th:only-of-type {\n",
              "        vertical-align: middle;\n",
              "    }\n",
              "\n",
              "    .dataframe tbody tr th {\n",
              "        vertical-align: top;\n",
              "    }\n",
              "\n",
              "    .dataframe thead th {\n",
              "        text-align: right;\n",
              "    }\n",
              "</style>\n",
              "<table border=\"1\" class=\"dataframe\">\n",
              "  <thead>\n",
              "    <tr style=\"text-align: right;\">\n",
              "      <th></th>\n",
              "      <th>id</th>\n",
              "      <th>statement</th>\n",
              "      <th>description</th>\n",
              "      <th>rating</th>\n",
              "    </tr>\n",
              "  </thead>\n",
              "  <tbody>\n",
              "    <tr>\n",
              "      <th>0</th>\n",
              "      <td>6771.0</td>\n",
              "      <td>Dawn dish soap contains ammonia even though it...</td>\n",
              "      <td>Could Mixing Dawn Dish Soap with Clorox Bleach...</td>\n",
              "      <td>TRUE</td>\n",
              "    </tr>\n",
              "    <tr>\n",
              "      <th>1</th>\n",
              "      <td>2468.0</td>\n",
              "      <td>Is blue light harmful to our eyes?</td>\n",
              "      <td>It seems reasonable to reduce exposure to blue...</td>\n",
              "      <td>TRUE</td>\n",
              "    </tr>\n",
              "    <tr>\n",
              "      <th>2</th>\n",
              "      <td>1929.0</td>\n",
              "      <td>Are the 'Winter Blues' real?</td>\n",
              "      <td>I've recently &lt;a href=\"https://www.sciencedail...</td>\n",
              "      <td>TRUE</td>\n",
              "    </tr>\n",
              "    <tr>\n",
              "      <th>3</th>\n",
              "      <td>1872.0</td>\n",
              "      <td>Is air pollution linked to greater risk of dem...</td>\n",
              "      <td>&lt;a href=\"https://www.theguardian.com/environme...</td>\n",
              "      <td>TRUE</td>\n",
              "    </tr>\n",
              "    <tr>\n",
              "      <th>4</th>\n",
              "      <td>1956.0</td>\n",
              "      <td>Can eccentric exercises cause human hyperplasia?</td>\n",
              "      <td>With concentric regular exercises muscle hyper...</td>\n",
              "      <td>TRUE</td>\n",
              "    </tr>\n",
              "  </tbody>\n",
              "</table>\n",
              "</div>"
            ],
            "text/plain": [
              "       id                                          statement  \\\n",
              "0  6771.0  Dawn dish soap contains ammonia even though it...   \n",
              "1  2468.0                 Is blue light harmful to our eyes?   \n",
              "2  1929.0                       Are the 'Winter Blues' real?   \n",
              "3  1872.0  Is air pollution linked to greater risk of dem...   \n",
              "4  1956.0   Can eccentric exercises cause human hyperplasia?   \n",
              "\n",
              "                                         description rating  \n",
              "0  Could Mixing Dawn Dish Soap with Clorox Bleach...   TRUE  \n",
              "1  It seems reasonable to reduce exposure to blue...   TRUE  \n",
              "2  I've recently <a href=\"https://www.sciencedail...   TRUE  \n",
              "3  <a href=\"https://www.theguardian.com/environme...   TRUE  \n",
              "4  With concentric regular exercises muscle hyper...   TRUE  "
            ]
          },
          "execution_count": 4,
          "metadata": {},
          "output_type": "execute_result"
        }
      ],
      "source": [
        "dataframe.head()"
      ]
    },
    {
      "cell_type": "code",
      "execution_count": null,
      "metadata": {
        "id": "nMcHFmArLcSZ",
        "outputId": "451f864a-33eb-4d8e-9789-7dc0ae69c192"
      },
      "outputs": [
        {
          "data": {
            "text/plain": [
              "rating\n",
              "FALSE    353\n",
              "TRUE     330\n",
              "Name: count, dtype: int64"
            ]
          },
          "execution_count": 5,
          "metadata": {},
          "output_type": "execute_result"
        }
      ],
      "source": [
        "dataframe.rating.value_counts()"
      ]
    },
    {
      "cell_type": "markdown",
      "metadata": {
        "id": "csWtJEi7LcSZ"
      },
      "source": [
        "RNN Implementation"
      ]
    },
    {
      "cell_type": "code",
      "execution_count": null,
      "metadata": {
        "id": "_RQUnNOsLcSb"
      },
      "outputs": [],
      "source": [
        "import numpy as np # linear algebra\n",
        "import pandas as pd # data processing, CSV file I/O (e.g. pd.read_csv)\n",
        "from keras.layers import Dense, Embedding, LSTM, SpatialDropout1D\n",
        "from keras.models import Sequential\n",
        "from sklearn.feature_extraction.text import CountVectorizer\n",
        "from keras.preprocessing.text import Tokenizer\n",
        "from keras.preprocessing.sequence import pad_sequences\n",
        "from sklearn.model_selection import train_test_split\n",
        "from tensorflow.keras.utils import to_categorical\n",
        "from keras.callbacks import EarlyStopping"
      ]
    },
    {
      "cell_type": "code",
      "execution_count": null,
      "metadata": {
        "id": "Nz6Z85qZLcSb"
      },
      "outputs": [],
      "source": [
        "num_of_categories = 1000\n",
        "shuffled = dataframe.reindex(np.random.permutation(dataframe.index))\n",
        "TRUE = shuffled[shuffled['rating'] == 'TRUE'][:num_of_categories]\n",
        "FALSE = shuffled[shuffled['rating'] == 'FALSE'][:num_of_categories]\n",
        "concated = pd.concat([TRUE,FALSE], ignore_index=True)\n",
        "#Shuffle the dataset\n",
        "concated = concated.reindex(np.random.permutation(concated.index))\n",
        "concated['LABEL'] = 0"
      ]
    },
    {
      "cell_type": "code",
      "execution_count": null,
      "metadata": {
        "id": "5H4zIqSNLcSc",
        "outputId": "63aac14b-f5c4-463f-b478-eab5ce3790e1"
      },
      "outputs": [
        {
          "name": "stdout",
          "output_type": "stream",
          "text": [
            "476    1\n",
            "53     0\n",
            "410    1\n",
            "414    1\n",
            "544    1\n",
            "119    0\n",
            "614    1\n",
            "89     0\n",
            "422    1\n",
            "355    1\n",
            "Name: LABEL, dtype: int64\n",
            "[[0. 1.]\n",
            " [1. 0.]\n",
            " [0. 1.]\n",
            " [0. 1.]\n",
            " [0. 1.]\n",
            " [1. 0.]\n",
            " [0. 1.]\n",
            " [1. 0.]\n",
            " [0. 1.]\n",
            " [0. 1.]]\n"
          ]
        }
      ],
      "source": [
        "concated.loc[concated['rating'] == 'TRUE', 'LABEL'] = 0\n",
        "concated.loc[concated['rating'] == 'FALSE', 'LABEL'] = 1\n",
        "print(concated['LABEL'][:10])\n",
        "labels = to_categorical(concated['LABEL'], num_classes=2)\n",
        "print(labels[:10])\n",
        "if 'rating' in concated.keys():\n",
        "    concated.drop(['rating'], axis=1)"
      ]
    },
    {
      "cell_type": "code",
      "execution_count": null,
      "metadata": {
        "id": "qXuw33WcLcSc",
        "outputId": "07382eb6-8167-4217-e518-51fe003bfe9f"
      },
      "outputs": [
        {
          "name": "stdout",
          "output_type": "stream",
          "text": [
            "Found 2548 unique tokens.\n"
          ]
        }
      ],
      "source": [
        "n_most_common_words = 8000\n",
        "max_len = 130\n",
        "tokenizer = Tokenizer(num_words=n_most_common_words, filters='!\"#$%&()*+,-./:;<=>?@[\\]^_`{|}~', lower=True)\n",
        "tokenizer.fit_on_texts(concated['statement'].values)\n",
        "sequences = tokenizer.texts_to_sequences(concated['statement'].values)\n",
        "word_index = tokenizer.word_index\n",
        "print('Found %s unique tokens.' % len(word_index))\n",
        "\n",
        "X = pad_sequences(sequences, maxlen=max_len)"
      ]
    },
    {
      "cell_type": "code",
      "execution_count": null,
      "metadata": {
        "id": "YV6QZ2jqLcSc"
      },
      "outputs": [],
      "source": [
        "X_train, X_test, y_train, y_test = train_test_split(X , labels, test_size=0.25, random_state=42)"
      ]
    },
    {
      "cell_type": "code",
      "execution_count": null,
      "metadata": {
        "id": "lNgzuEOGLcSc",
        "outputId": "3aa8c6ea-97d0-4ae7-d9bd-c253a7cad6f7"
      },
      "outputs": [
        {
          "data": {
            "text/plain": [
              "array([[0., 1.],\n",
              "       [1., 0.]], dtype=float32)"
            ]
          },
          "execution_count": 11,
          "metadata": {},
          "output_type": "execute_result"
        }
      ],
      "source": [
        "epochs = 10\n",
        "emb_dim = 128\n",
        "batch_size = 256\n",
        "labels[:2]"
      ]
    },
    {
      "cell_type": "code",
      "execution_count": null,
      "metadata": {
        "id": "q5CzFmxWLcSc",
        "outputId": "019bf8de-ee56-446e-e4da-ce2af89b6f8e"
      },
      "outputs": [
        {
          "name": "stdout",
          "output_type": "stream",
          "text": [
            "((512, 130), (512, 2), (171, 130), (171, 2))\n",
            "Model: \"sequential\"\n",
            "_________________________________________________________________\n",
            " Layer (type)                Output Shape              Param #   \n",
            "=================================================================\n",
            " embedding (Embedding)       (None, 130, 128)          1024000   \n",
            "                                                                 \n",
            " spatial_dropout1d (Spatial  (None, 130, 128)          0         \n",
            " Dropout1D)                                                      \n",
            "                                                                 \n",
            " lstm (LSTM)                 (None, 64)                49408     \n",
            "                                                                 \n",
            " dense (Dense)               (None, 2)                 130       \n",
            "                                                                 \n",
            "=================================================================\n",
            "Total params: 1073538 (4.10 MB)\n",
            "Trainable params: 1073538 (4.10 MB)\n",
            "Non-trainable params: 0 (0.00 Byte)\n",
            "_________________________________________________________________\n",
            "None\n",
            "Epoch 1/10\n",
            "9/9 [==============================] - 6s 213ms/step - loss: 0.6918 - acc: 0.5012 - val_loss: 0.6878 - val_acc: 0.5243\n",
            "Epoch 2/10\n",
            "9/9 [==============================] - 1s 162ms/step - loss: 0.6846 - acc: 0.5697 - val_loss: 0.6787 - val_acc: 0.5825\n",
            "Epoch 3/10\n",
            "9/9 [==============================] - 1s 148ms/step - loss: 0.6673 - acc: 0.6895 - val_loss: 0.6585 - val_acc: 0.7184\n",
            "Epoch 4/10\n",
            "9/9 [==============================] - 1s 139ms/step - loss: 0.6513 - acc: 0.6944 - val_loss: 0.6361 - val_acc: 0.7184\n",
            "Epoch 5/10\n",
            "9/9 [==============================] - 1s 142ms/step - loss: 0.6187 - acc: 0.7286 - val_loss: 0.6125 - val_acc: 0.6893\n",
            "Epoch 6/10\n",
            "9/9 [==============================] - 1s 142ms/step - loss: 0.5815 - acc: 0.7237 - val_loss: 0.5880 - val_acc: 0.6893\n",
            "Epoch 7/10\n",
            "9/9 [==============================] - 1s 138ms/step - loss: 0.5381 - acc: 0.7506 - val_loss: 0.5624 - val_acc: 0.7379\n",
            "Epoch 8/10\n",
            "9/9 [==============================] - 1s 136ms/step - loss: 0.5003 - acc: 0.7751 - val_loss: 0.5476 - val_acc: 0.7476\n",
            "Epoch 9/10\n",
            "9/9 [==============================] - 1s 135ms/step - loss: 0.4412 - acc: 0.8020 - val_loss: 0.5067 - val_acc: 0.8058\n",
            "Epoch 10/10\n",
            "9/9 [==============================] - 1s 135ms/step - loss: 0.3877 - acc: 0.8533 - val_loss: 0.4963 - val_acc: 0.7864\n"
          ]
        }
      ],
      "source": [
        "print((X_train.shape, y_train.shape, X_test.shape, y_test.shape))\n",
        "\n",
        "model = Sequential()\n",
        "model.add(Embedding(n_most_common_words, emb_dim, input_length=X.shape[1]))\n",
        "model.add(SpatialDropout1D(0.7))\n",
        "model.add(LSTM(64, dropout=0.7, recurrent_dropout=0.7))\n",
        "model.add(Dense(2, activation='softmax'))\n",
        "model.compile(optimizer='adam', loss='categorical_crossentropy', metrics=['acc'])\n",
        "print(model.summary())\n",
        "history = model.fit(X_train, y_train, epochs=10, batch_size=50,validation_split=0.2,callbacks=[EarlyStopping(monitor='val_loss',patience=3, min_delta=0)])"
      ]
    },
    {
      "cell_type": "code",
      "execution_count": null,
      "metadata": {
        "id": "ju-xjnAcLcSd",
        "outputId": "f996a61d-93ba-4198-c0ca-b9172737d4ab"
      },
      "outputs": [
        {
          "name": "stdout",
          "output_type": "stream",
          "text": [
            "6/6 [==============================] - 0s 14ms/step - loss: 0.4190 - acc: 0.8187\n",
            "Test set\n",
            "  Loss: 0.419\n",
            "  Accuracy: 0.819\n"
          ]
        }
      ],
      "source": [
        "accr = model.evaluate(X_test,y_test)\n",
        "print('Test set\\n  Loss: {:0.3f}\\n  Accuracy: {:0.3f}'.format(accr[0],accr[1]))"
      ]
    },
    {
      "cell_type": "code",
      "execution_count": null,
      "metadata": {
        "id": "mqfUwsDXLcSd",
        "outputId": "c0755cbc-890e-46a1-f34a-28ea632cb9dd"
      },
      "outputs": [
        {
          "name": "stdout",
          "output_type": "stream",
          "text": [
            "6/6 [==============================] - 0s 14ms/step\n",
            "Precision: 0.84\n",
            "Recall: 0.82\n",
            "F1 Score: 0.82\n",
            "Support: None\n"
          ]
        }
      ],
      "source": [
        "from sklearn.metrics import precision_recall_fscore_support\n",
        "from sklearn.metrics import confusion_matrix\n",
        "# Evaluation Metrics\n",
        "y_pred = model.predict(X_test)\n",
        "y_pred_classes = np.argmax(y_pred, axis=1)\n",
        "y_test_classes = np.argmax(y_test, axis=1)\n",
        "\n",
        "precision, recall, f1_score, support = precision_recall_fscore_support(y_test_classes, y_pred_classes, average='weighted')\n",
        "print(\"Precision: {:.2f}\".format(precision))\n",
        "print(\"Recall: {:.2f}\".format(recall))\n",
        "print(\"F1 Score: {:.2f}\".format(f1_score))\n",
        "print(\"Support: {}\".format(support))"
      ]
    },
    {
      "cell_type": "code",
      "execution_count": null,
      "metadata": {
        "id": "LF0YtJEMLcSd",
        "outputId": "cc26bacb-b21f-4405-9830-66a4dadb4b67"
      },
      "outputs": [
        {
          "name": "stdout",
          "output_type": "stream",
          "text": [
            "6/6 [==============================] - 0s 14ms/step\n",
            "              precision    recall  f1-score   support\n",
            "\n",
            "           0       0.91      0.72      0.80        88\n",
            "           1       0.75      0.93      0.83        83\n",
            "\n",
            "    accuracy                           0.82       171\n",
            "   macro avg       0.83      0.82      0.82       171\n",
            "weighted avg       0.84      0.82      0.82       171\n",
            "\n"
          ]
        }
      ],
      "source": [
        "from sklearn.metrics import classification_report\n",
        "\n",
        "# Generate predictions on the test data\n",
        "y_pred = model.predict(X_test)\n",
        "\n",
        "# Convert one-hot encoded predictions to class labels (assuming y_pred is one-hot encoded)\n",
        "y_pred_classes = np.argmax(y_pred, axis=1)\n",
        "\n",
        "# Convert one-hot encoded true labels to class labels (assuming y_test is one-hot encoded)\n",
        "y_true_classes = np.argmax(y_test, axis=1)\n",
        "\n",
        "# Generate the classification report\n",
        "report = classification_report(y_true_classes, y_pred_classes)\n",
        "\n",
        "# Print the classification report\n",
        "print(report)"
      ]
    },
    {
      "cell_type": "code",
      "execution_count": null,
      "metadata": {
        "id": "TOXwsAzjLcSd",
        "outputId": "065e8051-9a3e-4f42-f1e3-5d8f770100b0"
      },
      "outputs": [
        {
          "name": "stdout",
          "output_type": "stream",
          "text": [
            "True Positives (TP): 77\n",
            "False Positives (FP): 25\n",
            "True Negatives (TN): 63\n",
            "False Negatives (FN): 6\n"
          ]
        }
      ],
      "source": [
        "from sklearn.metrics import confusion_matrix\n",
        "\n",
        "# Calculate the confusion matrix\n",
        "confusion_matrix_result = confusion_matrix(y_true_classes, y_pred_classes)\n",
        "\n",
        "# Extract TP, FP, TN, FN from the confusion matrix\n",
        "TP = confusion_matrix_result[1, 1]  # True Positives\n",
        "FP = confusion_matrix_result[0, 1]  # False Positives\n",
        "TN = confusion_matrix_result[0, 0]  # True Negatives\n",
        "FN = confusion_matrix_result[1, 0]  # False Negatives\n",
        "\n",
        "print(f\"True Positives (TP): {TP}\")\n",
        "print(f\"False Positives (FP): {FP}\")\n",
        "print(f\"True Negatives (TN): {TN}\")\n",
        "print(f\"False Negatives (FN): {FN}\")"
      ]
    },
    {
      "cell_type": "code",
      "execution_count": null,
      "metadata": {
        "id": "YeFRCe7vLcSd",
        "outputId": "56c14581-bc8e-4a0a-c0e0-c0489fbf7aa3"
      },
      "outputs": [
        {
          "data": {
            "image/png": "[encoded data removed]",
            "text/plain": [
              "<Figure size 800x600 with 1 Axes>"
            ]
          },
          "metadata": {},
          "output_type": "display_data"
        },
        {
          "name": "stdout",
          "output_type": "stream",
          "text": [
            "AUC (Area Under the ROC Curve): 0.8218099671412923\n"
          ]
        }
      ],
      "source": [
        "from sklearn.metrics import roc_auc_score, roc_curve, auc\n",
        "import matplotlib.pyplot as plt\n",
        "\n",
        "# ... (your model training and evaluation code)\n",
        "\n",
        "# Calculate the ROC AUC score\n",
        "roc_auc = roc_auc_score(y_true_classes, y_pred_classes)\n",
        "\n",
        "# Calculate the ROC curve\n",
        "fpr, tpr, thresholds = roc_curve(y_true_classes, y_pred_classes)\n",
        "\n",
        "# Plot the ROC curve\n",
        "plt.figure(figsize=(8, 6))\n",
        "plt.plot(fpr, tpr, color='darkorange', lw=2, label='ROC curve (area = %0.2f)' % roc_auc)\n",
        "plt.plot([0, 1], [0, 1], color='navy', lw=2, linestyle='--')\n",
        "plt.xlim([0.0, 1.0])\n",
        "plt.ylim([0.0, 1.05])\n",
        "plt.xlabel('False Positive Rate')\n",
        "plt.ylabel('True Positive Rate')\n",
        "plt.title('Receiver Operating Characteristic')\n",
        "plt.legend(loc='lower right')\n",
        "plt.show()\n",
        "\n",
        "print(f\"AUC (Area Under the ROC Curve): {roc_auc}\")\n"
      ]
    },
    {
      "cell_type": "code",
      "execution_count": null,
      "metadata": {
        "id": "8FiVf7wJLcSe",
        "outputId": "d254158b-0e6b-425f-daae-6b3186e6b705"
      },
      "outputs": [
        {
          "data": {
            "text/plain": [
              "array([[0.7316561 , 0.26834393],\n",
              "       [0.82932365, 0.17067632],\n",
              "       [0.8317153 , 0.16828471],\n",
              "       [0.32453677, 0.6754632 ],\n",
              "       [0.30666682, 0.6933332 ],\n",
              "       [0.72588027, 0.27411965],\n",
              "       [0.24595068, 0.75404924],\n",
              "       [0.84558606, 0.15441391],\n",
              "       [0.20612413, 0.7938758 ],\n",
              "       [0.16592738, 0.83407265],\n",
              "       [0.05025645, 0.94974357],\n",
              "       [0.16386782, 0.83613217],\n",
              "       [0.7450068 , 0.25499317],\n",
              "       [0.48101932, 0.5189806 ],\n",
              "       [0.9156    , 0.08440007],\n",
              "       [0.85584795, 0.14415206],\n",
              "       [0.9297868 , 0.07021318],\n",
              "       [0.65154624, 0.34845376],\n",
              "       [0.8021578 , 0.19784214],\n",
              "       [0.21694371, 0.7830563 ],\n",
              "       [0.47040835, 0.5295917 ],\n",
              "       [0.46829545, 0.5317045 ],\n",
              "       [0.81541   , 0.18458997],\n",
              "       [0.24120025, 0.7587997 ],\n",
              "       [0.81921107, 0.18078896],\n",
              "       [0.20763838, 0.7923616 ],\n",
              "       [0.76765877, 0.23234129],\n",
              "       [0.67561233, 0.32438767],\n",
              "       [0.80788374, 0.19211629],\n",
              "       [0.8402722 , 0.1597278 ],\n",
              "       [0.61240435, 0.38759562],\n",
              "       [0.27817726, 0.72182274],\n",
              "       [0.45907927, 0.5409207 ],\n",
              "       [0.17546767, 0.82453233],\n",
              "       [0.24936046, 0.75063956],\n",
              "       [0.48143768, 0.5185624 ],\n",
              "       [0.23289287, 0.7671071 ],\n",
              "       [0.2997067 , 0.7002933 ],\n",
              "       [0.8747749 , 0.1252252 ],\n",
              "       [0.15112954, 0.8488705 ],\n",
              "       [0.27032834, 0.7296717 ],\n",
              "       [0.29467863, 0.7053214 ],\n",
              "       [0.8776516 , 0.12234838],\n",
              "       [0.762761  , 0.23723905],\n",
              "       [0.19969621, 0.80030376],\n",
              "       [0.63213295, 0.367867  ],\n",
              "       [0.9495159 , 0.05048412],\n",
              "       [0.80265725, 0.19734275],\n",
              "       [0.8465425 , 0.15345751],\n",
              "       [0.2436032 , 0.75639683],\n",
              "       [0.14631201, 0.853688  ],\n",
              "       [0.5661892 , 0.43381077],\n",
              "       [0.73876864, 0.26123133],\n",
              "       [0.15331893, 0.84668106],\n",
              "       [0.03705811, 0.96294194],\n",
              "       [0.9185887 , 0.0814113 ],\n",
              "       [0.19593716, 0.8040628 ],\n",
              "       [0.24012966, 0.7598703 ],\n",
              "       [0.21139021, 0.7886098 ],\n",
              "       [0.58593476, 0.41406524],\n",
              "       [0.7046943 , 0.29530576],\n",
              "       [0.05006716, 0.9499328 ],\n",
              "       [0.14593041, 0.85406953],\n",
              "       [0.12179735, 0.8782027 ],\n",
              "       [0.8523623 , 0.14763771],\n",
              "       [0.6775624 , 0.32243758],\n",
              "       [0.78558445, 0.21441558],\n",
              "       [0.12899756, 0.87100244],\n",
              "       [0.05120121, 0.9487988 ],\n",
              "       [0.6683005 , 0.33169955],\n",
              "       [0.20232238, 0.79767764],\n",
              "       [0.84588975, 0.15411027],\n",
              "       [0.20420015, 0.79579985],\n",
              "       [0.20065887, 0.79934114],\n",
              "       [0.7809998 , 0.21900019],\n",
              "       [0.7460074 , 0.25399265],\n",
              "       [0.30039757, 0.6996024 ],\n",
              "       [0.8256123 , 0.17438774],\n",
              "       [0.85077137, 0.14922869],\n",
              "       [0.601568  , 0.39843205],\n",
              "       [0.14708534, 0.85291463],\n",
              "       [0.37390453, 0.62609553],\n",
              "       [0.18706216, 0.81293786],\n",
              "       [0.2929431 , 0.7070569 ],\n",
              "       [0.35924813, 0.64075184],\n",
              "       [0.38425303, 0.615747  ],\n",
              "       [0.05629625, 0.9437037 ],\n",
              "       [0.8984705 , 0.10152944],\n",
              "       [0.88593227, 0.11406779],\n",
              "       [0.79306525, 0.20693478],\n",
              "       [0.9145352 , 0.08546481],\n",
              "       [0.6058717 , 0.3941283 ],\n",
              "       [0.2791762 , 0.7208238 ],\n",
              "       [0.78304964, 0.21695039],\n",
              "       [0.11633354, 0.8836665 ],\n",
              "       [0.3213871 , 0.6786129 ],\n",
              "       [0.73384416, 0.2661558 ],\n",
              "       [0.12914051, 0.8708595 ],\n",
              "       [0.77140915, 0.22859085],\n",
              "       [0.5984478 , 0.40155217],\n",
              "       [0.8460285 , 0.15397151],\n",
              "       [0.27754197, 0.72245806],\n",
              "       [0.7863805 , 0.21361952],\n",
              "       [0.18629321, 0.81370676],\n",
              "       [0.79740804, 0.20259194],\n",
              "       [0.16043258, 0.8395675 ],\n",
              "       [0.27736697, 0.722633  ],\n",
              "       [0.05448864, 0.94551134],\n",
              "       [0.83967644, 0.16032353],\n",
              "       [0.33868435, 0.6613157 ],\n",
              "       [0.33165842, 0.6683416 ],\n",
              "       [0.90849996, 0.0915    ],\n",
              "       [0.1054017 , 0.8945983 ],\n",
              "       [0.6512315 , 0.34876856],\n",
              "       [0.23851337, 0.7614866 ],\n",
              "       [0.24543238, 0.7545676 ],\n",
              "       [0.15636209, 0.8436379 ],\n",
              "       [0.26771566, 0.7322843 ],\n",
              "       [0.71401805, 0.285982  ],\n",
              "       [0.94153607, 0.05846389],\n",
              "       [0.18685462, 0.8131454 ],\n",
              "       [0.1135219 , 0.8864781 ],\n",
              "       [0.85835624, 0.14164376],\n",
              "       [0.9236408 , 0.07635926],\n",
              "       [0.36290532, 0.6370946 ],\n",
              "       [0.5076325 , 0.49236745],\n",
              "       [0.81541   , 0.18458995],\n",
              "       [0.71361244, 0.28638753],\n",
              "       [0.31081396, 0.68918604],\n",
              "       [0.06919805, 0.930802  ],\n",
              "       [0.20631495, 0.793685  ],\n",
              "       [0.48124832, 0.5187517 ],\n",
              "       [0.7402329 , 0.25976712],\n",
              "       [0.9373044 , 0.06269564],\n",
              "       [0.6867223 , 0.31327772],\n",
              "       [0.3956162 , 0.6043838 ],\n",
              "       [0.1797329 , 0.82026714],\n",
              "       [0.72040665, 0.27959338],\n",
              "       [0.65883714, 0.34116286],\n",
              "       [0.90454006, 0.09545992],\n",
              "       [0.78007174, 0.21992832],\n",
              "       [0.7712923 , 0.2287076 ],\n",
              "       [0.35916355, 0.6408364 ],\n",
              "       [0.9375024 , 0.06249767],\n",
              "       [0.6048823 , 0.39511773],\n",
              "       [0.80191797, 0.19808204],\n",
              "       [0.58337045, 0.41662952],\n",
              "       [0.25486836, 0.7451317 ],\n",
              "       [0.1384195 , 0.8615805 ],\n",
              "       [0.4022902 , 0.59770983],\n",
              "       [0.16054705, 0.8394529 ],\n",
              "       [0.25773808, 0.74226195],\n",
              "       [0.85895   , 0.14105   ],\n",
              "       [0.8423099 , 0.15769012],\n",
              "       [0.6476372 , 0.3523628 ],\n",
              "       [0.07069526, 0.9293047 ],\n",
              "       [0.77186257, 0.2281374 ],\n",
              "       [0.9073589 , 0.09264113],\n",
              "       [0.24101618, 0.75898385],\n",
              "       [0.71201766, 0.28798237],\n",
              "       [0.80788374, 0.19211629],\n",
              "       [0.7261638 , 0.27383617],\n",
              "       [0.34248874, 0.6575113 ],\n",
              "       [0.8465425 , 0.15345751],\n",
              "       [0.4712649 , 0.52873504],\n",
              "       [0.9139894 , 0.0860106 ],\n",
              "       [0.8224048 , 0.17759518],\n",
              "       [0.9029464 , 0.09705357],\n",
              "       [0.15813504, 0.8418649 ],\n",
              "       [0.68829685, 0.3117032 ],\n",
              "       [0.8786887 , 0.12131132]], dtype=float32)"
            ]
          },
          "execution_count": 15,
          "metadata": {},
          "output_type": "execute_result"
        }
      ],
      "source": [
        "y_pred"
      ]
    },
    {
      "cell_type": "code",
      "execution_count": null,
      "metadata": {
        "id": "jmvsTuqwLcSe",
        "outputId": "fd42f9bd-730e-419b-9d09-8d5d327e9c46"
      },
      "outputs": [
        {
          "data": {
            "text/plain": [
              "array([[1., 0.],\n",
              "       [1., 0.],\n",
              "       [0., 1.],\n",
              "       [0., 1.],\n",
              "       [0., 1.],\n",
              "       [1., 0.],\n",
              "       [1., 0.],\n",
              "       [1., 0.],\n",
              "       [0., 1.],\n",
              "       [0., 1.],\n",
              "       [0., 1.],\n",
              "       [0., 1.],\n",
              "       [1., 0.],\n",
              "       [0., 1.],\n",
              "       [1., 0.],\n",
              "       [1., 0.],\n",
              "       [1., 0.],\n",
              "       [1., 0.],\n",
              "       [0., 1.],\n",
              "       [0., 1.],\n",
              "       [0., 1.],\n",
              "       [0., 1.],\n",
              "       [1., 0.],\n",
              "       [0., 1.],\n",
              "       [1., 0.],\n",
              "       [0., 1.],\n",
              "       [0., 1.],\n",
              "       [0., 1.],\n",
              "       [1., 0.],\n",
              "       [1., 0.],\n",
              "       [0., 1.],\n",
              "       [0., 1.],\n",
              "       [1., 0.],\n",
              "       [0., 1.],\n",
              "       [0., 1.],\n",
              "       [0., 1.],\n",
              "       [0., 1.],\n",
              "       [0., 1.],\n",
              "       [1., 0.],\n",
              "       [0., 1.],\n",
              "       [0., 1.],\n",
              "       [0., 1.],\n",
              "       [1., 0.],\n",
              "       [1., 0.],\n",
              "       [0., 1.],\n",
              "       [0., 1.],\n",
              "       [1., 0.],\n",
              "       [1., 0.],\n",
              "       [1., 0.],\n",
              "       [0., 1.],\n",
              "       [0., 1.],\n",
              "       [0., 1.],\n",
              "       [1., 0.],\n",
              "       [0., 1.],\n",
              "       [0., 1.],\n",
              "       [1., 0.],\n",
              "       [1., 0.],\n",
              "       [0., 1.],\n",
              "       [1., 0.],\n",
              "       [0., 1.],\n",
              "       [1., 0.],\n",
              "       [0., 1.],\n",
              "       [0., 1.],\n",
              "       [0., 1.],\n",
              "       [1., 0.],\n",
              "       [1., 0.],\n",
              "       [1., 0.],\n",
              "       [0., 1.],\n",
              "       [0., 1.],\n",
              "       [1., 0.],\n",
              "       [0., 1.],\n",
              "       [1., 0.],\n",
              "       [0., 1.],\n",
              "       [0., 1.],\n",
              "       [0., 1.],\n",
              "       [1., 0.],\n",
              "       [0., 1.],\n",
              "       [1., 0.],\n",
              "       [1., 0.],\n",
              "       [1., 0.],\n",
              "       [0., 1.],\n",
              "       [0., 1.],\n",
              "       [0., 1.],\n",
              "       [1., 0.],\n",
              "       [0., 1.],\n",
              "       [0., 1.],\n",
              "       [0., 1.],\n",
              "       [1., 0.],\n",
              "       [1., 0.],\n",
              "       [1., 0.],\n",
              "       [1., 0.],\n",
              "       [0., 1.],\n",
              "       [0., 1.],\n",
              "       [1., 0.],\n",
              "       [0., 1.],\n",
              "       [0., 1.],\n",
              "       [1., 0.],\n",
              "       [1., 0.],\n",
              "       [0., 1.],\n",
              "       [1., 0.],\n",
              "       [1., 0.],\n",
              "       [0., 1.],\n",
              "       [1., 0.],\n",
              "       [0., 1.],\n",
              "       [1., 0.],\n",
              "       [0., 1.],\n",
              "       [0., 1.],\n",
              "       [0., 1.],\n",
              "       [1., 0.],\n",
              "       [0., 1.],\n",
              "       [0., 1.],\n",
              "       [1., 0.],\n",
              "       [0., 1.],\n",
              "       [1., 0.],\n",
              "       [0., 1.],\n",
              "       [0., 1.],\n",
              "       [0., 1.],\n",
              "       [0., 1.],\n",
              "       [0., 1.],\n",
              "       [1., 0.],\n",
              "       [1., 0.],\n",
              "       [0., 1.],\n",
              "       [1., 0.],\n",
              "       [1., 0.],\n",
              "       [1., 0.],\n",
              "       [1., 0.],\n",
              "       [1., 0.],\n",
              "       [1., 0.],\n",
              "       [0., 1.],\n",
              "       [0., 1.],\n",
              "       [0., 1.],\n",
              "       [1., 0.],\n",
              "       [0., 1.],\n",
              "       [1., 0.],\n",
              "       [0., 1.],\n",
              "       [1., 0.],\n",
              "       [0., 1.],\n",
              "       [0., 1.],\n",
              "       [0., 1.],\n",
              "       [1., 0.],\n",
              "       [1., 0.],\n",
              "       [1., 0.],\n",
              "       [0., 1.],\n",
              "       [1., 0.],\n",
              "       [1., 0.],\n",
              "       [1., 0.],\n",
              "       [0., 1.],\n",
              "       [0., 1.],\n",
              "       [0., 1.],\n",
              "       [0., 1.],\n",
              "       [0., 1.],\n",
              "       [0., 1.],\n",
              "       [1., 0.],\n",
              "       [1., 0.],\n",
              "       [1., 0.],\n",
              "       [0., 1.],\n",
              "       [0., 1.],\n",
              "       [1., 0.],\n",
              "       [0., 1.],\n",
              "       [1., 0.],\n",
              "       [1., 0.],\n",
              "       [1., 0.],\n",
              "       [1., 0.],\n",
              "       [1., 0.],\n",
              "       [0., 1.],\n",
              "       [1., 0.],\n",
              "       [1., 0.],\n",
              "       [1., 0.],\n",
              "       [0., 1.],\n",
              "       [0., 1.],\n",
              "       [1., 0.]], dtype=float32)"
            ]
          },
          "execution_count": 32,
          "metadata": {},
          "output_type": "execute_result"
        }
      ],
      "source": [
        "y_test"
      ]
    },
    {
      "cell_type": "code",
      "execution_count": null,
      "metadata": {
        "id": "6Hu6SJN2LcSe",
        "outputId": "93889ffd-fbda-4787-f04a-1db6a59b0b29"
      },
      "outputs": [
        {
          "name": "stdout",
          "output_type": "stream",
          "text": [
            "1/1 [==============================] - 0s 40ms/step\n",
            "TRUE\n"
          ]
        }
      ],
      "source": [
        "txt = [\"Does taking apple cider vinegar as a supplement have any real health benefits?\"]\n",
        "seq = tokenizer.texts_to_sequences(txt)\n",
        "padded = pad_sequences(seq, maxlen=max_len)\n",
        "pred = model.predict(padded)\n",
        "labels = ['TRUE', 'FALSE']\n",
        "print(labels[np.argmax(pred)])"
      ]
    },
    {
      "cell_type": "code",
      "execution_count": null,
      "metadata": {
        "id": "U7fPMXE1LcSe",
        "outputId": "c261ced4-0d62-4f37-8e65-b497c6a5c856"
      },
      "outputs": [
        {
          "name": "stdout",
          "output_type": "stream",
          "text": [
            "1/6 [====>.........................] - ETA: 0s"
          ]
        },
        {
          "name": "stdout",
          "output_type": "stream",
          "text": [
            "6/6 [==============================] - 0s 22ms/step\n"
          ]
        }
      ],
      "source": [
        "y_pred_probabilities = model.predict(X_test)\n",
        "y_pred = np.argmax(y_pred_probabilities, axis=1).astype(\"int64\")\n",
        "labels = to_categorical(concated['LABEL'], num_classes=2)\n",
        "labels[labels == [1.,0.]]= [0]\n",
        "labels[labels == [0.,1.]]= [1]\n",
        "y_true = labels\n"
      ]
    },
    {
      "cell_type": "code",
      "execution_count": null,
      "metadata": {
        "id": "_yfMF_9_LcSe",
        "outputId": "ca2c8b7e-807b-41fb-dda6-d3c4ff801c0b"
      },
      "outputs": [
        {
          "data": {
            "text/plain": [
              "array([[1., 1.],\n",
              "       [1., 1.],\n",
              "       [1., 1.],\n",
              "       ...,\n",
              "       [1., 1.],\n",
              "       [1., 1.],\n",
              "       [1., 1.]], dtype=float32)"
            ]
          },
          "execution_count": 19,
          "metadata": {},
          "output_type": "execute_result"
        }
      ],
      "source": [
        "y_true"
      ]
    },
    {
      "cell_type": "code",
      "execution_count": null,
      "metadata": {
        "id": "uxk6zclXLcSe",
        "outputId": "ae1ca9af-0cba-4e04-a794-2dd23c6e82c3"
      },
      "outputs": [
        {
          "data": {
            "text/plain": [
              "array([[8.92487407e-01, 1.07512526e-01],\n",
              "       [9.81541276e-01, 1.84587222e-02],\n",
              "       [9.62307870e-01, 3.76921184e-02],\n",
              "       [4.25669402e-01, 5.74330568e-01],\n",
              "       [5.45263290e-01, 4.54736710e-01],\n",
              "       [8.19454372e-01, 1.80545613e-01],\n",
              "       [1.43490866e-01, 8.56509149e-01],\n",
              "       [9.86863494e-01, 1.31365443e-02],\n",
              "       [5.21594519e-03, 9.94784057e-01],\n",
              "       [2.39971280e-03, 9.97600257e-01],\n",
              "       [1.96597283e-03, 9.98034060e-01],\n",
              "       [4.84752329e-03, 9.95152473e-01],\n",
              "       [9.46608961e-01, 5.33910394e-02],\n",
              "       [4.49594185e-02, 9.55040634e-01],\n",
              "       [9.97592211e-01, 2.40777642e-03],\n",
              "       [9.93793845e-01, 6.20619347e-03],\n",
              "       [9.97361124e-01, 2.63890298e-03],\n",
              "       [4.77600724e-01, 5.22399247e-01],\n",
              "       [5.18200994e-01, 4.81798977e-01],\n",
              "       [6.05638837e-03, 9.93943632e-01],\n",
              "       [9.23965514e-01, 7.60345012e-02],\n",
              "       [9.78786767e-01, 2.12131869e-02],\n",
              "       [8.85970294e-01, 1.14029661e-01],\n",
              "       [2.81160269e-02, 9.71884012e-01],\n",
              "       [9.04366136e-01, 9.56338495e-02],\n",
              "       [2.14579399e-03, 9.97854173e-01],\n",
              "       [9.81848359e-01, 1.81516930e-02],\n",
              "       [6.21573985e-01, 3.78426105e-01],\n",
              "       [9.85780776e-01, 1.42192645e-02],\n",
              "       [9.62213039e-01, 3.77869681e-02],\n",
              "       [9.85444486e-01, 1.45554822e-02],\n",
              "       [2.55600642e-02, 9.74439859e-01],\n",
              "       [2.72731274e-01, 7.27268696e-01],\n",
              "       [8.00007358e-02, 9.19999182e-01],\n",
              "       [2.90554389e-02, 9.70944583e-01],\n",
              "       [9.66155231e-01, 3.38447765e-02],\n",
              "       [4.33274023e-02, 9.56672668e-01],\n",
              "       [2.25416534e-02, 9.77458358e-01],\n",
              "       [9.95175123e-01, 4.82488144e-03],\n",
              "       [3.55384964e-03, 9.96446192e-01],\n",
              "       [7.37235509e-03, 9.92627680e-01],\n",
              "       [1.27516434e-01, 8.72483552e-01],\n",
              "       [9.96113420e-01, 3.88658419e-03],\n",
              "       [9.92690980e-01, 7.30907591e-03],\n",
              "       [6.63056135e-01, 3.36943865e-01],\n",
              "       [9.70987737e-01, 2.90122405e-02],\n",
              "       [9.98902202e-01, 1.09774130e-03],\n",
              "       [9.90767300e-01, 9.23261512e-03],\n",
              "       [9.97859180e-01, 2.14076345e-03],\n",
              "       [7.62484269e-03, 9.92375195e-01],\n",
              "       [2.59778299e-03, 9.97402191e-01],\n",
              "       [2.35086214e-02, 9.76491392e-01],\n",
              "       [9.83991444e-01, 1.60085466e-02],\n",
              "       [2.10885680e-03, 9.97891128e-01],\n",
              "       [3.49147740e-04, 9.99650836e-01],\n",
              "       [9.98236179e-01, 1.76382146e-03],\n",
              "       [4.80327494e-02, 9.51967239e-01],\n",
              "       [8.34193360e-03, 9.91658032e-01],\n",
              "       [6.04323626e-01, 3.95676345e-01],\n",
              "       [9.86954033e-01, 1.30460076e-02],\n",
              "       [9.88624692e-01, 1.13753593e-02],\n",
              "       [6.34124852e-04, 9.99365866e-01],\n",
              "       [5.20037115e-03, 9.94799614e-01],\n",
              "       [4.71589342e-03, 9.95284140e-01],\n",
              "       [9.96167123e-01, 3.83285666e-03],\n",
              "       [9.36815858e-01, 6.31841645e-02],\n",
              "       [9.29529309e-01, 7.04706758e-02],\n",
              "       [3.07213073e-03, 9.96927917e-01],\n",
              "       [4.56638139e-04, 9.99543369e-01],\n",
              "       [9.84888434e-01, 1.51115330e-02],\n",
              "       [8.25625472e-03, 9.91743743e-01],\n",
              "       [9.80707586e-01, 1.92924179e-02],\n",
              "       [4.96431300e-03, 9.95035768e-01],\n",
              "       [5.30731864e-04, 9.99469340e-01],\n",
              "       [7.87891865e-01, 2.12108135e-01],\n",
              "       [9.93312776e-01, 6.68720435e-03],\n",
              "       [1.36229368e-02, 9.86377060e-01],\n",
              "       [9.84585702e-01, 1.54143311e-02],\n",
              "       [9.99450982e-01, 5.49049117e-04],\n",
              "       [5.60510933e-01, 4.39489037e-01],\n",
              "       [7.20052747e-03, 9.92799520e-01],\n",
              "       [8.92986715e-01, 1.07013337e-01],\n",
              "       [9.12452023e-03, 9.90875483e-01],\n",
              "       [1.63694337e-01, 8.36305737e-01],\n",
              "       [5.92033923e-01, 4.07966077e-01],\n",
              "       [5.75612724e-01, 4.24387246e-01],\n",
              "       [5.94234676e-04, 9.99405742e-01],\n",
              "       [9.96347606e-01, 3.65245389e-03],\n",
              "       [9.95998502e-01, 4.00146190e-03],\n",
              "       [6.81887865e-01, 3.18112135e-01],\n",
              "       [9.97572005e-01, 2.42804573e-03],\n",
              "       [3.18022907e-01, 6.81977093e-01],\n",
              "       [1.91771109e-02, 9.80822861e-01],\n",
              "       [9.64847922e-01, 3.51520479e-02],\n",
              "       [3.45422421e-04, 9.99654531e-01],\n",
              "       [1.24173509e-02, 9.87582624e-01],\n",
              "       [9.89146709e-01, 1.08533315e-02],\n",
              "       [1.43740629e-03, 9.98562634e-01],\n",
              "       [7.75387943e-01, 2.24612072e-01],\n",
              "       [9.56309021e-01, 4.36909609e-02],\n",
              "       [9.87027228e-01, 1.29728541e-02],\n",
              "       [5.03651565e-03, 9.94963527e-01],\n",
              "       [9.95618999e-01, 4.38098889e-03],\n",
              "       [5.06846467e-03, 9.94931519e-01],\n",
              "       [9.74715829e-01, 2.52841692e-02],\n",
              "       [1.82881460e-01, 8.17118585e-01],\n",
              "       [8.54809165e-01, 1.45190865e-01],\n",
              "       [1.68702783e-04, 9.99831319e-01],\n",
              "       [9.84928668e-01, 1.50713334e-02],\n",
              "       [2.36981228e-01, 7.63018727e-01],\n",
              "       [2.58058477e-02, 9.74194229e-01],\n",
              "       [9.96473968e-01, 3.52601078e-03],\n",
              "       [1.63002661e-03, 9.98369992e-01],\n",
              "       [7.49549329e-01, 2.50450671e-01],\n",
              "       [7.27094058e-03, 9.92729008e-01],\n",
              "       [1.21014550e-01, 8.78985405e-01],\n",
              "       [5.55426860e-03, 9.94445682e-01],\n",
              "       [1.36993185e-01, 8.63006771e-01],\n",
              "       [5.79408288e-01, 4.20591772e-01],\n",
              "       [9.98642623e-01, 1.35733932e-03],\n",
              "       [3.59047577e-03, 9.96409476e-01],\n",
              "       [3.94199369e-03, 9.96057987e-01],\n",
              "       [9.97873783e-01, 2.12623575e-03],\n",
              "       [9.98131096e-01, 1.86897640e-03],\n",
              "       [2.54804492e-01, 7.45195508e-01],\n",
              "       [7.76072741e-01, 2.23927319e-01],\n",
              "       [8.85970294e-01, 1.14029661e-01],\n",
              "       [9.60915208e-01, 3.90847623e-02],\n",
              "       [2.42794394e-01, 7.57205665e-01],\n",
              "       [1.37996336e-04, 9.99861956e-01],\n",
              "       [1.71700548e-02, 9.82829988e-01],\n",
              "       [8.71804655e-01, 1.28195316e-01],\n",
              "       [9.70345318e-01, 2.96546444e-02],\n",
              "       [9.98375416e-01, 1.62457034e-03],\n",
              "       [7.70461977e-01, 2.29537994e-01],\n",
              "       [5.33962846e-01, 4.66037124e-01],\n",
              "       [4.94465325e-03, 9.95055318e-01],\n",
              "       [5.53853735e-02, 9.44614649e-01],\n",
              "       [9.00103092e-01, 9.98969153e-02],\n",
              "       [9.96394336e-01, 3.60571151e-03],\n",
              "       [9.99024510e-01, 9.75535426e-04],\n",
              "       [9.94158745e-01, 5.84130362e-03],\n",
              "       [6.32588239e-03, 9.93674159e-01],\n",
              "       [9.98607576e-01, 1.39243901e-03],\n",
              "       [5.00725985e-01, 4.99274015e-01],\n",
              "       [6.89925492e-01, 3.10074508e-01],\n",
              "       [7.12264419e-01, 2.87735552e-01],\n",
              "       [2.28418291e-01, 7.71581709e-01],\n",
              "       [1.29138317e-03, 9.98708606e-01],\n",
              "       [7.79036641e-01, 2.20963344e-01],\n",
              "       [3.31406645e-03, 9.96685922e-01],\n",
              "       [5.47081828e-01, 4.52918172e-01],\n",
              "       [9.96878266e-01, 3.12179048e-03],\n",
              "       [9.81004775e-01, 1.89952180e-02],\n",
              "       [9.77087855e-01, 2.29121074e-02],\n",
              "       [4.14110604e-04, 9.99585927e-01],\n",
              "       [8.00687134e-01, 1.99312821e-01],\n",
              "       [9.95647490e-01, 4.35252860e-03],\n",
              "       [1.89492524e-01, 8.10507476e-01],\n",
              "       [7.82866001e-01, 2.17133999e-01],\n",
              "       [9.85780776e-01, 1.42192645e-02],\n",
              "       [9.71757472e-01, 2.82425601e-02],\n",
              "       [2.03255359e-02, 9.79674518e-01],\n",
              "       [9.97859180e-01, 2.14076345e-03],\n",
              "       [1.43099472e-01, 8.56900513e-01],\n",
              "       [9.95312214e-01, 4.68772324e-03],\n",
              "       [9.87522185e-01, 1.24778310e-02],\n",
              "       [9.97887671e-01, 2.11233855e-03],\n",
              "       [8.10091197e-03, 9.91899133e-01],\n",
              "       [7.48794794e-01, 2.51205176e-01],\n",
              "       [9.82581854e-01, 1.74180996e-02]], dtype=float32)"
            ]
          },
          "execution_count": 31,
          "metadata": {},
          "output_type": "execute_result"
        }
      ],
      "source": [
        "y_pred"
      ]
    },
    {
      "cell_type": "code",
      "execution_count": null,
      "metadata": {
        "id": "cMEqOcyvLcSe"
      },
      "outputs": [],
      "source": [
        "def rnn_det(txt):\n",
        "    input_data = [txt]\n",
        "    seq = tokenizer.texts_to_sequences(input_data)\n",
        "    padded = pad_sequences(seq)\n",
        "    prediction = model.predict(padded)\n",
        "    labels = ['TRUE', 'FALSE']\n",
        "    print(labels[np.argmax(prediction)])"
      ]
    },
    {
      "cell_type": "code",
      "execution_count": null,
      "metadata": {
        "id": "9Hn54P8DLcSe",
        "outputId": "f1c352ab-0d2a-46f6-d157-c920973595e2"
      },
      "outputs": [
        {
          "name": "stdout",
          "output_type": "stream",
          "text": [
            "1/1 [==============================] - 0s 250ms/step\n",
            "FALSE\n"
          ]
        }
      ],
      "source": [
        "rnn_det(\"Antibodies for the common cold produce a positive COVID-19 test; false-positive results from COVID-19 antibody testing are behind the COVID-19 cases reported in the U.S.\")"
      ]
    },
    {
      "cell_type": "code",
      "execution_count": null,
      "metadata": {
        "id": "3m-2b9jrLcSe",
        "outputId": "56c28502-535d-491f-930c-30334ab1d005"
      },
      "outputs": [
        {
          "name": "stdout",
          "output_type": "stream",
          "text": [
            "Saved model to disk\n"
          ]
        }
      ],
      "source": [
        "# imports\n",
        "from tensorflow.keras.models import model_from_json\n",
        "\n",
        "\n",
        "model_json = model.to_json()\n",
        "with open(\"model.json\", \"w\") as json_file:\n",
        "    json_file.write(model_json)\n",
        "# serialize weights to HDF5\n",
        "model.save_weights(\"model.h5\")\n",
        "print(\"Saved model to disk\")\n",
        "\n"
      ]
    },
    {
      "cell_type": "code",
      "execution_count": null,
      "metadata": {
        "id": "s-SUtdZVLcSe",
        "outputId": "4b810507-d066-4aee-b5a1-32a8d3c1ba8a"
      },
      "outputs": [
        {
          "name": "stdout",
          "output_type": "stream",
          "text": [
            "Epoch 1/10\n",
            "2/2 [==============================] - 1s 382ms/step - loss: 0.0367 - acc: 0.9902 - val_loss: 0.3493 - val_acc: 0.8641\n",
            "Epoch 2/10\n",
            "2/2 [==============================] - 1s 338ms/step - loss: 0.0353 - acc: 0.9878 - val_loss: 0.3477 - val_acc: 0.8544\n",
            "Epoch 3/10\n",
            "2/2 [==============================] - 1s 339ms/step - loss: 0.0264 - acc: 0.9976 - val_loss: 0.3475 - val_acc: 0.8544\n",
            "Epoch 4/10\n",
            "2/2 [==============================] - 1s 346ms/step - loss: 0.0352 - acc: 0.9927 - val_loss: 0.3472 - val_acc: 0.8544\n",
            "Epoch 5/10\n",
            "2/2 [==============================] - 1s 356ms/step - loss: 0.0221 - acc: 0.9976 - val_loss: 0.3485 - val_acc: 0.8447\n",
            "Epoch 6/10\n",
            "2/2 [==============================] - 1s 337ms/step - loss: 0.0319 - acc: 0.9902 - val_loss: 0.3532 - val_acc: 0.8544\n",
            "Epoch 7/10\n",
            "2/2 [==============================] - 1s 365ms/step - loss: 0.0227 - acc: 0.9976 - val_loss: 0.3603 - val_acc: 0.8350\n",
            "Epoch 8/10\n",
            "2/2 [==============================] - 1s 355ms/step - loss: 0.0294 - acc: 0.9927 - val_loss: 0.3712 - val_acc: 0.8350\n",
            "Epoch 9/10\n",
            "2/2 [==============================] - 1s 326ms/step - loss: 0.0204 - acc: 0.9976 - val_loss: 0.3854 - val_acc: 0.8447\n",
            "Epoch 10/10\n",
            "2/2 [==============================] - 1s 340ms/step - loss: 0.0175 - acc: 0.9951 - val_loss: 0.3945 - val_acc: 0.8447\n"
          ]
        },
        {
          "data": {
            "image/png": "[encoded data removed]",
            "text/plain": [
              "<Figure size 640x480 with 1 Axes>"
            ]
          },
          "metadata": {},
          "output_type": "display_data"
        }
      ],
      "source": [
        "import matplotlib.pyplot as plt\n",
        "\n",
        "\n",
        "history = model.fit(X_train, y_train, epochs=epochs, batch_size=batch_size, validation_split=0.2, callbacks=[EarlyStopping(monitor='val_loss', patience=7, min_delta=0.0001)])\n",
        "\n",
        "# Plotting the training loss\n",
        "plt.plot(history.history['loss'], label='Training Loss')\n",
        "plt.plot(history.history['val_loss'], label='Validation Loss')\n",
        "plt.title('Training and Validation Loss')\n",
        "plt.xlabel('Epochs')\n",
        "plt.ylabel('Loss')\n",
        "plt.legend()\n",
        "plt.show()\n"
      ]
    },
    {
      "cell_type": "code",
      "execution_count": null,
      "metadata": {
        "id": "9SCGhtS_LcSf",
        "outputId": "f8e08da4-180a-418e-a93f-9e0f96feceb4"
      },
      "outputs": [
        {
          "name": "stdout",
          "output_type": "stream",
          "text": [
            "Epoch 1/10\n",
            "2/2 [==============================] - 1s 402ms/step - loss: 0.0265 - acc: 0.9951 - val_loss: 0.3945 - val_acc: 0.8447\n",
            "Epoch 2/10\n",
            "2/2 [==============================] - 1s 347ms/step - loss: 0.0270 - acc: 0.9902 - val_loss: 0.3839 - val_acc: 0.8447\n",
            "Epoch 3/10\n",
            "2/2 [==============================] - 1s 317ms/step - loss: 0.0233 - acc: 0.9976 - val_loss: 0.3764 - val_acc: 0.8544\n",
            "Epoch 4/10\n",
            "2/2 [==============================] - 1s 320ms/step - loss: 0.0306 - acc: 0.9902 - val_loss: 0.3720 - val_acc: 0.8641\n",
            "Epoch 5/10\n",
            "2/2 [==============================] - 1s 299ms/step - loss: 0.0272 - acc: 0.9927 - val_loss: 0.3731 - val_acc: 0.8641\n",
            "Epoch 6/10\n",
            "2/2 [==============================] - 1s 298ms/step - loss: 0.0294 - acc: 0.9927 - val_loss: 0.3768 - val_acc: 0.8641\n",
            "Epoch 7/10\n",
            "2/2 [==============================] - 1s 313ms/step - loss: 0.0282 - acc: 0.9951 - val_loss: 0.3790 - val_acc: 0.8544\n",
            "Epoch 8/10\n",
            "2/2 [==============================] - 1s 319ms/step - loss: 0.0262 - acc: 0.9853 - val_loss: 0.3818 - val_acc: 0.8641\n",
            "Epoch 9/10\n",
            "2/2 [==============================] - 1s 305ms/step - loss: 0.0248 - acc: 0.9927 - val_loss: 0.3852 - val_acc: 0.8641\n",
            "Epoch 10/10\n",
            "2/2 [==============================] - 1s 310ms/step - loss: 0.0186 - acc: 0.9976 - val_loss: 0.3917 - val_acc: 0.8641\n"
          ]
        },
        {
          "data": {
            "image/png": "[encoded data removed]",
            "text/plain": [
              "<Figure size 640x480 with 1 Axes>"
            ]
          },
          "metadata": {},
          "output_type": "display_data"
        }
      ],
      "source": [
        "import matplotlib.pyplot as plt\n",
        "\n",
        "\n",
        "\n",
        "history = model.fit(X_train, y_train, epochs=epochs, batch_size=batch_size, validation_split=0.2, callbacks=[EarlyStopping(monitor='val_loss', patience=7, min_delta=0.0001)])\n",
        "\n",
        "# Plotting the training accuracy\n",
        "plt.plot(history.history['acc'], label='Training Accuracy')\n",
        "plt.plot(history.history['val_acc'], label='Validation Accuracy')\n",
        "plt.title('Training and Validation Accuracy')\n",
        "plt.xlabel('Epochs')\n",
        "plt.ylabel('Accuracy')\n",
        "plt.legend()\n",
        "plt.show()"
      ]
    },
    {
      "cell_type": "code",
      "execution_count": null,
      "metadata": {
        "id": "BQ-RyCMALcSf",
        "outputId": "e65749cb-d768-4d2a-9ed0-5beb7ea1e9aa"
      },
      "outputs": [
        {
          "name": "stdout",
          "output_type": "stream",
          "text": [
            "Epoch 1/10\n",
            "2/2 [==============================] - 1s 341ms/step - loss: 0.0201 - acc: 0.9902 - val_loss: 0.3994 - val_acc: 0.8447\n",
            "Epoch 2/10\n",
            "2/2 [==============================] - 1s 319ms/step - loss: 0.0189 - acc: 0.9951 - val_loss: 0.4040 - val_acc: 0.8350\n",
            "Epoch 3/10\n",
            "2/2 [==============================] - 1s 326ms/step - loss: 0.0223 - acc: 0.9927 - val_loss: 0.4082 - val_acc: 0.8350\n",
            "Epoch 4/10\n",
            "2/2 [==============================] - 1s 336ms/step - loss: 0.0137 - acc: 0.9976 - val_loss: 0.4132 - val_acc: 0.8252\n",
            "Epoch 5/10\n",
            "2/2 [==============================] - 1s 312ms/step - loss: 0.0227 - acc: 0.9927 - val_loss: 0.4137 - val_acc: 0.8350\n",
            "Epoch 6/10\n",
            "2/2 [==============================] - 1s 333ms/step - loss: 0.0161 - acc: 0.9976 - val_loss: 0.4108 - val_acc: 0.8350\n",
            "Epoch 7/10\n",
            "2/2 [==============================] - 1s 343ms/step - loss: 0.0223 - acc: 0.9976 - val_loss: 0.4073 - val_acc: 0.8155\n",
            "Epoch 8/10\n",
            "2/2 [==============================] - 1s 332ms/step - loss: 0.0169 - acc: 0.9951 - val_loss: 0.4051 - val_acc: 0.8252\n",
            "6/6 [==============================] - 0s 26ms/step\n"
          ]
        },
        {
          "ename": "IndexError",
          "evalue": "index 2 is out of bounds for axis 1 with size 2",
          "output_type": "error",
          "traceback": [
            "\u001b[1;31m---------------------------------------------------------------------------\u001b[0m",
            "\u001b[1;31mIndexError\u001b[0m                                Traceback (most recent call last)",
            "\u001b[1;32mc:\\Users\\shrey\\Desktop\\New folder\\RNN Implementation.ipynb Cell 27\u001b[0m line \u001b[0;36m1\n\u001b[0;32m     <a href='vscode-notebook-cell:/c%3A/Users/shrey/Desktop/New%20folder/RNN%20Implementation.ipynb#X40sZmlsZQ%3D%3D?line=13'>14</a>\u001b[0m roc_auc \u001b[39m=\u001b[39m \u001b[39mdict\u001b[39m()\n\u001b[0;32m     <a href='vscode-notebook-cell:/c%3A/Users/shrey/Desktop/New%20folder/RNN%20Implementation.ipynb#X40sZmlsZQ%3D%3D?line=14'>15</a>\u001b[0m \u001b[39mfor\u001b[39;00m i \u001b[39min\u001b[39;00m \u001b[39mrange\u001b[39m(\u001b[39m4\u001b[39m):\n\u001b[1;32m---> <a href='vscode-notebook-cell:/c%3A/Users/shrey/Desktop/New%20folder/RNN%20Implementation.ipynb#X40sZmlsZQ%3D%3D?line=15'>16</a>\u001b[0m     fpr[i], tpr[i], _ \u001b[39m=\u001b[39m roc_curve(y_test[:, i], y_pred[:, i])\n\u001b[0;32m     <a href='vscode-notebook-cell:/c%3A/Users/shrey/Desktop/New%20folder/RNN%20Implementation.ipynb#X40sZmlsZQ%3D%3D?line=16'>17</a>\u001b[0m     roc_auc[i] \u001b[39m=\u001b[39m auc(fpr[i], tpr[i])\n\u001b[0;32m     <a href='vscode-notebook-cell:/c%3A/Users/shrey/Desktop/New%20folder/RNN%20Implementation.ipynb#X40sZmlsZQ%3D%3D?line=18'>19</a>\u001b[0m \u001b[39m# Plot ROC curve\u001b[39;00m\n",
            "\u001b[1;31mIndexError\u001b[0m: index 2 is out of bounds for axis 1 with size 2"
          ]
        }
      ],
      "source": [
        "from sklearn.metrics import roc_curve, auc\n",
        "import matplotlib.pyplot as plt\n",
        "\n",
        "# ... (previous code remains unchanged) ...\n",
        "\n",
        "history = model.fit(X_train, y_train, epochs=epochs, batch_size=batch_size, validation_split=0.2, callbacks=[EarlyStopping(monitor='val_loss', patience=7, min_delta=0.0001)])\n",
        "\n",
        "# Evaluation Metrics\n",
        "y_pred = model.predict(X_test)\n",
        "\n",
        "# Compute ROC curve and ROC area for each class\n",
        "fpr = dict()\n",
        "tpr = dict()\n",
        "roc_auc = dict()\n",
        "for i in range(4):\n",
        "    fpr[i], tpr[i], _ = roc_curve(y_test[:, i], y_pred[:, i])\n",
        "    roc_auc[i] = auc(fpr[i], tpr[i])\n",
        "\n",
        "# Plot ROC curve\n",
        "plt.figure()\n",
        "lw = 2\n",
        "for i in range(4):\n",
        "    plt.plot(fpr[i], tpr[i], lw=lw, label='ROC curve of class {0} (area = {1:0.2f})'.format(i, roc_auc[i]))\n",
        "\n",
        "plt.plot([0, 1], [0, 1], color='navy', lw=lw, linestyle='--')\n",
        "plt.xlim([0.0, 1.0])\n",
        "plt.ylim([0.0, 1.05])\n",
        "plt.xlabel('False Positive Rate')\n",
        "plt.ylabel('True Positive Rate')\n",
        "plt.title('Receiver Operating Characteristic (ROC) Curve')\n",
        "plt.legend(loc=\"lower right\")\n",
        "plt.show()\n",
        "\n",
        "\n",
        "\n"
      ]
    }
  ],
  "metadata": {
    "kernelspec": {
      "display_name": "Python 3",
      "language": "python",
      "name": "python3"
    },
    "language_info": {
      "codemirror_mode": {
        "name": "ipython",
        "version": 3
      },
      "file_extension": ".py",
      "mimetype": "text/x-python",
      "name": "python",
      "nbconvert_exporter": "python",
      "pygments_lexer": "ipython3",
      "version": "3.11.6"
    },
    "colab": {
      "provenance": [],
      "include_colab_link": true
    }
  },
  "nbformat": 4,
  "nbformat_minor": 0
}