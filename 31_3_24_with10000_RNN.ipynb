{
  "nbformat": 4,
  "nbformat_minor": 0,
  "metadata": {
    "colab": {
      "provenance": [],
      "mount_file_id": "1wITItTTrIP_RutKyUpimoXwHTqVILUgR",
      "authorship_tag": "ABX9TyMQRzc01FURmnz+74hlh22T",
      "include_colab_link": true
    },
    "kernelspec": {
      "name": "python3",
      "display_name": "Python 3"
    },
    "language_info": {
      "name": "python"
    }
  },
  "cells": [
    {
      "cell_type": "markdown",
      "metadata": {
        "id": "view-in-github",
        "colab_type": "text"
      },
      "source": [
        "<a href=\"https://colab.research.google.com/github/Shreyash54/HealthMisinfoDetection/blob/main/31_3_24_with10000_RNN.ipynb\" target=\"_parent\"><img src=\"https://colab.research.google.com/assets/colab-badge.svg\" alt=\"Open In Colab\"/></a>"
      ]
    },
    {
      "cell_type": "markdown",
      "source": [
        "LSTM   WITH 73      ACCURACY   USING LARGER DATASET\n",
        "REQUIRES CLEANSING AND HYPERPARAMETER TUNING"
      ],
      "metadata": {
        "id": "pmoMRSqkha-D"
      }
    },
    {
      "cell_type": "code",
      "execution_count": null,
      "metadata": {
        "id": "jGYrs4e9LRjF",
        "colab": {
          "base_uri": "https://localhost:8080/"
        },
        "outputId": "fcb144de-01a8-43f9-bd50-2567d3a17dfe"
      },
      "outputs": [
        {
          "output_type": "stream",
          "name": "stderr",
          "text": [
            "[nltk_data] Downloading package stopwords to /root/nltk_data...\n",
            "[nltk_data]   Package stopwords is already up-to-date!\n",
            "[nltk_data] Downloading package punkt to /root/nltk_data...\n",
            "[nltk_data]   Package punkt is already up-to-date!\n",
            "[nltk_data] Downloading package wordnet to /root/nltk_data...\n",
            "[nltk_data]   Package wordnet is already up-to-date!\n"
          ]
        },
        {
          "output_type": "execute_result",
          "data": {
            "text/plain": [
              "True"
            ]
          },
          "metadata": {},
          "execution_count": 203
        }
      ],
      "source": [
        "import pandas as pd\n",
        "import numpy as np\n",
        "import matplotlib.pyplot as plt\n",
        "import seaborn as sns\n",
        "import os\n",
        "import re\n",
        "import nltk\n",
        "from nltk.corpus import stopwords\n",
        "from nltk.stem.wordnet import WordNetLemmatizer\n",
        "import string\n",
        "from nltk.corpus import stopwords\n",
        "from nltk.stem import WordNetLemmatizer\n",
        "from nltk.tokenize import word_tokenize\n",
        "from sklearn.feature_extraction.text import TfidfVectorizer\n",
        "from sklearn.metrics.pairwise import cosine_similarity\n",
        "from sklearn.model_selection import train_test_split\n",
        "from keras.preprocessing.text import Tokenizer\n",
        "from keras.preprocessing.sequence import pad_sequences\n",
        "from sklearn.preprocessing import LabelEncoder\n",
        "from keras.models import Sequential\n",
        "from keras.layers import Embedding, LSTM, Dense\n",
        "\n",
        "# Download NLTK resources\n",
        "nltk.download('stopwords')\n",
        "nltk.download('punkt')\n",
        "nltk.download('wordnet')\n"
      ]
    },
    {
      "cell_type": "code",
      "source": [
        "data = pd.read_csv(\"/content/drive/MyDrive/cleaned-new-dataset.csv\")\n",
        "data.head()"
      ],
      "metadata": {
        "colab": {
          "base_uri": "https://localhost:8080/",
          "height": 206
        },
        "id": "trZBETImMqZB",
        "outputId": "66a1656b-744d-4c17-9fca-5624970b7c0f"
      },
      "execution_count": null,
      "outputs": [
        {
          "output_type": "execute_result",
          "data": {
            "text/plain": [
              "  claim_id                                         statements  label\n",
              "0    15661  $The money#@ the Clinton Foundation took from ...  False\n",
              "1     9893  $Annual Mammograms$ May Have More FalsePositiv...  False\n",
              "2    11358   Offers# Prostate $Cancer Patients High Cancer...  False\n",
              "3    10166  Study Vaccine for Breast Ovarian Cancer Has Po...   True\n",
              "4    11276  Some# appendicitis$ cases may not require emer...   True"
            ],
            "text/html": [
              "\n",
              "  <div id=\"df-af2e2d3f-4651-45b1-aaa5-e00cf870af79\" class=\"colab-df-container\">\n",
              "    <div>\n",
              "<style scoped>\n",
              "    .dataframe tbody tr th:only-of-type {\n",
              "        vertical-align: middle;\n",
              "    }\n",
              "\n",
              "    .dataframe tbody tr th {\n",
              "        vertical-align: top;\n",
              "    }\n",
              "\n",
              "    .dataframe thead th {\n",
              "        text-align: right;\n",
              "    }\n",
              "</style>\n",
              "<table border=\"1\" class=\"dataframe\">\n",
              "  <thead>\n",
              "    <tr style=\"text-align: right;\">\n",
              "      <th></th>\n",
              "      <th>claim_id</th>\n",
              "      <th>statements</th>\n",
              "      <th>label</th>\n",
              "    </tr>\n",
              "  </thead>\n",
              "  <tbody>\n",
              "    <tr>\n",
              "      <th>0</th>\n",
              "      <td>15661</td>\n",
              "      <td>$The money#@ the Clinton Foundation took from ...</td>\n",
              "      <td>False</td>\n",
              "    </tr>\n",
              "    <tr>\n",
              "      <th>1</th>\n",
              "      <td>9893</td>\n",
              "      <td>$Annual Mammograms$ May Have More FalsePositiv...</td>\n",
              "      <td>False</td>\n",
              "    </tr>\n",
              "    <tr>\n",
              "      <th>2</th>\n",
              "      <td>11358</td>\n",
              "      <td>Offers# Prostate $Cancer Patients High Cancer...</td>\n",
              "      <td>False</td>\n",
              "    </tr>\n",
              "    <tr>\n",
              "      <th>3</th>\n",
              "      <td>10166</td>\n",
              "      <td>Study Vaccine for Breast Ovarian Cancer Has Po...</td>\n",
              "      <td>True</td>\n",
              "    </tr>\n",
              "    <tr>\n",
              "      <th>4</th>\n",
              "      <td>11276</td>\n",
              "      <td>Some# appendicitis$ cases may not require emer...</td>\n",
              "      <td>True</td>\n",
              "    </tr>\n",
              "  </tbody>\n",
              "</table>\n",
              "</div>\n",
              "    <div class=\"colab-df-buttons\">\n",
              "\n",
              "  <div class=\"colab-df-container\">\n",
              "    <button class=\"colab-df-convert\" onclick=\"convertToInteractive('df-af2e2d3f-4651-45b1-aaa5-e00cf870af79')\"\n",
              "            title=\"Convert this dataframe to an interactive table.\"\n",
              "            style=\"display:none;\">\n",
              "\n",
              "  <svg xmlns=\"http://www.w3.org/2000/svg\" height=\"24px\" viewBox=\"0 -960 960 960\">\n",
              "    <path d=\"M120-120v-720h720v720H120Zm60-500h600v-160H180v160Zm220 220h160v-160H400v160Zm0 220h160v-160H400v160ZM180-400h160v-160H180v160Zm440 0h160v-160H620v160ZM180-180h160v-160H180v160Zm440 0h160v-160H620v160Z\"/>\n",
              "  </svg>\n",
              "    </button>\n",
              "\n",
              "  <style>\n",
              "    .colab-df-container {\n",
              "      display:flex;\n",
              "      gap: 12px;\n",
              "    }\n",
              "\n",
              "    .colab-df-convert {\n",
              "      background-color: #E8F0FE;\n",
              "      border: none;\n",
              "      border-radius: 50%;\n",
              "      cursor: pointer;\n",
              "      display: none;\n",
              "      fill: #1967D2;\n",
              "      height: 32px;\n",
              "      padding: 0 0 0 0;\n",
              "      width: 32px;\n",
              "    }\n",
              "\n",
              "    .colab-df-convert:hover {\n",
              "      background-color: #E2EBFA;\n",
              "      box-shadow: 0px 1px 2px rgba(60, 64, 67, 0.3), 0px 1px 3px 1px rgba(60, 64, 67, 0.15);\n",
              "      fill: #174EA6;\n",
              "    }\n",
              "\n",
              "    .colab-df-buttons div {\n",
              "      margin-bottom: 4px;\n",
              "    }\n",
              "\n",
              "    [theme=dark] .colab-df-convert {\n",
              "      background-color: #3B4455;\n",
              "      fill: #D2E3FC;\n",
              "    }\n",
              "\n",
              "    [theme=dark] .colab-df-convert:hover {\n",
              "      background-color: #434B5C;\n",
              "      box-shadow: 0px 1px 3px 1px rgba(0, 0, 0, 0.15);\n",
              "      filter: drop-shadow(0px 1px 2px rgba(0, 0, 0, 0.3));\n",
              "      fill: #FFFFFF;\n",
              "    }\n",
              "  </style>\n",
              "\n",
              "    <script>\n",
              "      const buttonEl =\n",
              "        document.querySelector('#df-af2e2d3f-4651-45b1-aaa5-e00cf870af79 button.colab-df-convert');\n",
              "      buttonEl.style.display =\n",
              "        google.colab.kernel.accessAllowed ? 'block' : 'none';\n",
              "\n",
              "      async function convertToInteractive(key) {\n",
              "        const element = document.querySelector('#df-af2e2d3f-4651-45b1-aaa5-e00cf870af79');\n",
              "        const dataTable =\n",
              "          await google.colab.kernel.invokeFunction('convertToInteractive',\n",
              "                                                    [key], {});\n",
              "        if (!dataTable) return;\n",
              "\n",
              "        const docLinkHtml = 'Like what you see? Visit the ' +\n",
              "          '<a target=\"_blank\" href=https://colab.research.google.com/notebooks/data_table.ipynb>data table notebook</a>'\n",
              "          + ' to learn more about interactive tables.';\n",
              "        element.innerHTML = '';\n",
              "        dataTable['output_type'] = 'display_data';\n",
              "        await google.colab.output.renderOutput(dataTable, element);\n",
              "        const docLink = document.createElement('div');\n",
              "        docLink.innerHTML = docLinkHtml;\n",
              "        element.appendChild(docLink);\n",
              "      }\n",
              "    </script>\n",
              "  </div>\n",
              "\n",
              "\n",
              "<div id=\"df-f84edfc4-7fbb-4975-a9e4-8c21ed5a5448\">\n",
              "  <button class=\"colab-df-quickchart\" onclick=\"quickchart('df-f84edfc4-7fbb-4975-a9e4-8c21ed5a5448')\"\n",
              "            title=\"Suggest charts\"\n",
              "            style=\"display:none;\">\n",
              "\n",
              "<svg xmlns=\"http://www.w3.org/2000/svg\" height=\"24px\"viewBox=\"0 0 24 24\"\n",
              "     width=\"24px\">\n",
              "    <g>\n",
              "        <path d=\"M19 3H5c-1.1 0-2 .9-2 2v14c0 1.1.9 2 2 2h14c1.1 0 2-.9 2-2V5c0-1.1-.9-2-2-2zM9 17H7v-7h2v7zm4 0h-2V7h2v10zm4 0h-2v-4h2v4z\"/>\n",
              "    </g>\n",
              "</svg>\n",
              "  </button>\n",
              "\n",
              "<style>\n",
              "  .colab-df-quickchart {\n",
              "      --bg-color: #E8F0FE;\n",
              "      --fill-color: #1967D2;\n",
              "      --hover-bg-color: #E2EBFA;\n",
              "      --hover-fill-color: #174EA6;\n",
              "      --disabled-fill-color: #AAA;\n",
              "      --disabled-bg-color: #DDD;\n",
              "  }\n",
              "\n",
              "  [theme=dark] .colab-df-quickchart {\n",
              "      --bg-color: #3B4455;\n",
              "      --fill-color: #D2E3FC;\n",
              "      --hover-bg-color: #434B5C;\n",
              "      --hover-fill-color: #FFFFFF;\n",
              "      --disabled-bg-color: #3B4455;\n",
              "      --disabled-fill-color: #666;\n",
              "  }\n",
              "\n",
              "  .colab-df-quickchart {\n",
              "    background-color: var(--bg-color);\n",
              "    border: none;\n",
              "    border-radius: 50%;\n",
              "    cursor: pointer;\n",
              "    display: none;\n",
              "    fill: var(--fill-color);\n",
              "    height: 32px;\n",
              "    padding: 0;\n",
              "    width: 32px;\n",
              "  }\n",
              "\n",
              "  .colab-df-quickchart:hover {\n",
              "    background-color: var(--hover-bg-color);\n",
              "    box-shadow: 0 1px 2px rgba(60, 64, 67, 0.3), 0 1px 3px 1px rgba(60, 64, 67, 0.15);\n",
              "    fill: var(--button-hover-fill-color);\n",
              "  }\n",
              "\n",
              "  .colab-df-quickchart-complete:disabled,\n",
              "  .colab-df-quickchart-complete:disabled:hover {\n",
              "    background-color: var(--disabled-bg-color);\n",
              "    fill: var(--disabled-fill-color);\n",
              "    box-shadow: none;\n",
              "  }\n",
              "\n",
              "  .colab-df-spinner {\n",
              "    border: 2px solid var(--fill-color);\n",
              "    border-color: transparent;\n",
              "    border-bottom-color: var(--fill-color);\n",
              "    animation:\n",
              "      spin 1s steps(1) infinite;\n",
              "  }\n",
              "\n",
              "  @keyframes spin {\n",
              "    0% {\n",
              "      border-color: transparent;\n",
              "      border-bottom-color: var(--fill-color);\n",
              "      border-left-color: var(--fill-color);\n",
              "    }\n",
              "    20% {\n",
              "      border-color: transparent;\n",
              "      border-left-color: var(--fill-color);\n",
              "      border-top-color: var(--fill-color);\n",
              "    }\n",
              "    30% {\n",
              "      border-color: transparent;\n",
              "      border-left-color: var(--fill-color);\n",
              "      border-top-color: var(--fill-color);\n",
              "      border-right-color: var(--fill-color);\n",
              "    }\n",
              "    40% {\n",
              "      border-color: transparent;\n",
              "      border-right-color: var(--fill-color);\n",
              "      border-top-color: var(--fill-color);\n",
              "    }\n",
              "    60% {\n",
              "      border-color: transparent;\n",
              "      border-right-color: var(--fill-color);\n",
              "    }\n",
              "    80% {\n",
              "      border-color: transparent;\n",
              "      border-right-color: var(--fill-color);\n",
              "      border-bottom-color: var(--fill-color);\n",
              "    }\n",
              "    90% {\n",
              "      border-color: transparent;\n",
              "      border-bottom-color: var(--fill-color);\n",
              "    }\n",
              "  }\n",
              "</style>\n",
              "\n",
              "  <script>\n",
              "    async function quickchart(key) {\n",
              "      const quickchartButtonEl =\n",
              "        document.querySelector('#' + key + ' button');\n",
              "      quickchartButtonEl.disabled = true;  // To prevent multiple clicks.\n",
              "      quickchartButtonEl.classList.add('colab-df-spinner');\n",
              "      try {\n",
              "        const charts = await google.colab.kernel.invokeFunction(\n",
              "            'suggestCharts', [key], {});\n",
              "      } catch (error) {\n",
              "        console.error('Error during call to suggestCharts:', error);\n",
              "      }\n",
              "      quickchartButtonEl.classList.remove('colab-df-spinner');\n",
              "      quickchartButtonEl.classList.add('colab-df-quickchart-complete');\n",
              "    }\n",
              "    (() => {\n",
              "      let quickchartButtonEl =\n",
              "        document.querySelector('#df-f84edfc4-7fbb-4975-a9e4-8c21ed5a5448 button');\n",
              "      quickchartButtonEl.style.display =\n",
              "        google.colab.kernel.accessAllowed ? 'block' : 'none';\n",
              "    })();\n",
              "  </script>\n",
              "</div>\n",
              "    </div>\n",
              "  </div>\n"
            ],
            "application/vnd.google.colaboratory.intrinsic+json": {
              "type": "dataframe",
              "variable_name": "data",
              "summary": "{\n  \"name\": \"data\",\n  \"rows\": 9805,\n  \"fields\": [\n    {\n      \"column\": \"claim_id\",\n      \"properties\": {\n        \"dtype\": \"string\",\n        \"num_unique_values\": 9805,\n        \"samples\": [\n          \"16825\",\n          \"7910\",\n          \"10841\"\n        ],\n        \"semantic_type\": \"\",\n        \"description\": \"\"\n      }\n    },\n    {\n      \"column\": \"statements\",\n      \"properties\": {\n        \"dtype\": \"string\",\n        \"num_unique_values\": 9804,\n        \"samples\": [\n          \"Its actually the safest time to flyOlder Americans and those with chronic conditions are advised to reconsider all travel plans to avoid COVID19 The State Department is advising all citizens to reconsider travel abroad China and Iran have been issued Level 4 travel advisories because of the virus If you do have to travel via airplane youre unlikely to get sick on board as long as you practice good hygiene\",\n          \"Properties owned by Jared Kushner in the Baltimore area have accrued multiple building code violations for rodent infestationWe pride ourselves on our level of customer service to our residents and take any violation seriously as evidenced by our very low number of violations today As it relates to the allegations of withholding rent payments we have no knowledge of any such actions taken by HUD or other any other governmental agencies\",\n          \"UN chief Use pandemic to rebuild our world for the betterUN SecretaryGeneral Antonio Guterres challenged leaders Tuesday to use the coronavirus pandemic to rebuild our world for the better by also working together to tackle other global threats such as climate change\"\n        ],\n        \"semantic_type\": \"\",\n        \"description\": \"\"\n      }\n    },\n    {\n      \"column\": \"label\",\n      \"properties\": {\n        \"dtype\": \"boolean\",\n        \"num_unique_values\": 2,\n        \"samples\": [\n          true,\n          false\n        ],\n        \"semantic_type\": \"\",\n        \"description\": \"\"\n      }\n    }\n  ]\n}"
            }
          },
          "metadata": {},
          "execution_count": 204
        }
      ]
    },
    {
      "cell_type": "code",
      "source": [
        "def summarize_text(text):\n",
        "    # Tokenize the text into sentences\n",
        "    sentences = text.split('.')\n",
        "\n",
        "    # Calculate TF-IDF scores for the sentences\n",
        "    vectorizer = TfidfVectorizer()\n",
        "    tfidf_matrix = vectorizer.fit_transform(sentences)\n",
        "\n",
        "    # Calculate cosine similarity between sentence vectors\n",
        "    similarity_matrix = cosine_similarity(tfidf_matrix, tfidf_matrix)\n",
        "\n",
        "    # Summarize by selecting top-ranked sentences\n",
        "    num_sentences_in_summary = 2\n",
        "    summary_indices = similarity_matrix.argsort(axis=1)[:, -num_sentences_in_summary:]\n",
        "    summary_indices = summary_indices.flatten()\n",
        "\n",
        "    # Form the summary\n",
        "    summary = ' '.join([sentences[i] for i in summary_indices])\n",
        "\n",
        "    return summary\n",
        "\n",
        "# Apply the summarization function to each row in the dataset\n",
        "data['summary'] = data['statements'].apply(summarize_text)\n",
        "\n",
        "def clean_text(x):\n",
        "    x = x.lower()\n",
        "    x = ' '.join([word for word in x.split(' ') if word not in stop_words])\n",
        "    x = x.encode('ascii', 'ignore').decode()\n",
        "    x = re.sub(r'https*\\S+', ' ', x)\n",
        "    x = re.sub(r'@\\S+', ' ', x)\n",
        "    x = re.sub(r'#\\S+', ' ', x)\n",
        "    x = re.sub(r'\\'\\w+', '', x)\n",
        "    x = re.sub('[%s]' % re.escape(string.punctuation), ' ', x)\n",
        "    x = re.sub(r'\\w*\\d+\\w*', '', x)\n",
        "    x = re.sub(r'\\s{2,}', ' ', x)\n",
        "    x = re.sub('rt','',x)\n",
        "    return x\n",
        "\n",
        "data['summary'] = data['summary'].apply(clean_text)\n"
      ],
      "metadata": {
        "id": "s8dEZQMLM7AU"
      },
      "execution_count": null,
      "outputs": []
    },
    {
      "cell_type": "code",
      "source": [
        "# Filter medical-related words\n",
        "medical_words = [\n",
        "    \"doctor\", \"hospital\", \"nurse\", \"patient\", \"clinic\", \"medicine\", \"health\", \"diagnosis\", \"treatment\",\n",
        "    \"prescription\", \"symptoms\", \"pharmacy\", \"surgery\", \"therapy\", \"vaccine\", \"emergency\", \"injury\",\n",
        "    \"illness\", \"recovery\", \"consultation\", \"appointment\", \"laboratory\", \"examination\", \"operation\",\n",
        "    \"medication\", \"disease\", \"disorder\", \"allergy\", \"cancer\", \"diabetes\", \"cardiology\", \"neurology\",\n",
        "    \"psychiatry\", \"pediatrics\", \"gynecology\", \"ophthalmology\", \"orthopedics\", \"radiology\", \"anatomy\",\n",
        "    \"physiology\", \"pharmacology\", \"pathology\", \"dermatology\", \"respiratory\", \"digestive\", \"endocrine\",\n",
        "    \"genetic\", \"immune\", \"integumentary\", \"muscular\", \"nervous\", \"reproductive\", \"skeletal\", \"urinary\",\n",
        "    \"vital signs\", \"blood pressure\", \"heart rate\", \"temperature\", \"pulse\", \"breathing rate\", \"BMI\",\n",
        "    \"first aid\", \"virus\", \"bacteria\", \"infection\", \"antibiotics\", \"painkiller\", \"anesthesia\",\n",
        "    \"bandage\", \"cast\", \"stethoscope\", \"syringe\", \"scalpel\", \"gauze\", \"IV\", \"x-ray\", \"ultrasound\",\n",
        "    \"MRI\", \"CT scan\", \"blood test\", \"urine test\", \"vaccination\", \"healthcare\", \"wellness\", \"mental health\",\n",
        "    \"rehabilitation\", \"public health\", \"epidemic\", \"pandemic\", \"quarantine\", \"hygiene\", \"nutrition\",\n",
        "    \"exercise\", \"physical therapy\", \"occupational therapy\", \"alternative medicine\", \"homeopathy\",\n",
        "    \"acupuncture\", \"chiropractic\", \"massage therapy\", \"herbal medicine\", \"holistic\", \"pain management\"\n",
        "]\n",
        "filtered_df = data[data['summary'].str.contains('|'.join(medical_words), case=False, na=False)]\n"
      ],
      "metadata": {
        "id": "PsEoKpuuST_V"
      },
      "execution_count": null,
      "outputs": []
    },
    {
      "cell_type": "code",
      "source": [
        "data.columns"
      ],
      "metadata": {
        "colab": {
          "base_uri": "https://localhost:8080/"
        },
        "id": "qdIyehwQNE_U",
        "outputId": "3bde1759-38f2-4882-b0e3-5798aea35e27"
      },
      "execution_count": null,
      "outputs": [
        {
          "output_type": "execute_result",
          "data": {
            "text/plain": [
              "Index(['claim_id', 'statements', 'label', 'summary'], dtype='object')"
            ]
          },
          "metadata": {},
          "execution_count": 207
        }
      ]
    },
    {
      "cell_type": "code",
      "source": [
        "tokenizer = Tokenizer()\n",
        "tokenizer.fit_on_texts(filtered_df['summary'])\n",
        "sequences = tokenizer.texts_to_sequences(filtered_df['summary'])\n",
        "max_length = max([len(seq) for seq in sequences])\n",
        "padded_sequences = pad_sequences(sequences, maxlen=max_length)\n"
      ],
      "metadata": {
        "id": "SP7PXOkZShXF"
      },
      "execution_count": null,
      "outputs": []
    },
    {
      "cell_type": "code",
      "source": [
        "# Prepare labels\n",
        "label_encoder = LabelEncoder()\n",
        "labels = label_encoder.fit_transform(filtered_df['label'])\n",
        "\n",
        "# Split the data into training and testing sets\n",
        "xtrain, xtest, ytrain, ytest = train_test_split(padded_sequences, labels, test_size=0.2)\n"
      ],
      "metadata": {
        "id": "iVWdlg6lSpPc"
      },
      "execution_count": null,
      "outputs": []
    },
    {
      "cell_type": "code",
      "source": [
        "#xtrain, xtest, ytrain, ytest = train_test_split(padded_sequences, labels, test_size=0.2)"
      ],
      "metadata": {
        "id": "Ws3TkRsjStXN"
      },
      "execution_count": null,
      "outputs": []
    },
    {
      "cell_type": "code",
      "source": [
        "vocabulary_size = len(tokenizer.word_index) + 1\n",
        "embedding_size = 32\n"
      ],
      "metadata": {
        "id": "xHEJ_ZGCSxLN"
      },
      "execution_count": null,
      "outputs": []
    },
    {
      "cell_type": "code",
      "source": [
        "# Define the model\n",
        "model = Sequential()\n",
        "model.add(Embedding(vocabulary_size, embedding_size, input_length=max_length))\n",
        "model.add(LSTM(100))\n",
        "model.add(Dense(1, activation='sigmoid'))\n"
      ],
      "metadata": {
        "id": "AYxGADn7Sz1e"
      },
      "execution_count": null,
      "outputs": []
    },
    {
      "cell_type": "code",
      "source": [
        "model.compile(loss='binary_crossentropy', optimizer='adam', metrics=['accuracy'])"
      ],
      "metadata": {
        "id": "FCM33fVhS7Se"
      },
      "execution_count": null,
      "outputs": []
    },
    {
      "cell_type": "code",
      "source": [
        "# Print model summary\n",
        "print(model.summary())\n"
      ],
      "metadata": {
        "colab": {
          "base_uri": "https://localhost:8080/"
        },
        "id": "Y9dtvshRS-Nw",
        "outputId": "e3ca02e3-9c9f-4e79-df7c-19da7a6e2528"
      },
      "execution_count": null,
      "outputs": [
        {
          "output_type": "stream",
          "name": "stdout",
          "text": [
            "Model: \"sequential_24\"\n",
            "_________________________________________________________________\n",
            " Layer (type)                Output Shape              Param #   \n",
            "=================================================================\n",
            " embedding_12 (Embedding)    (None, 389, 32)           1140448   \n",
            "                                                                 \n",
            " lstm_17 (LSTM)              (None, 100)               53200     \n",
            "                                                                 \n",
            " dense_13 (Dense)            (None, 1)                 101       \n",
            "                                                                 \n",
            "=================================================================\n",
            "Total params: 1193749 (4.55 MB)\n",
            "Trainable params: 1193749 (4.55 MB)\n",
            "Non-trainable params: 0 (0.00 Byte)\n",
            "_________________________________________________________________\n",
            "None\n"
          ]
        }
      ]
    },
    {
      "cell_type": "code",
      "source": [
        "batch_size = 64\n",
        "num_epochs = 10\n",
        "history = model.fit(xtrain, ytrain, validation_data=(xtest, ytest), batch_size=batch_size, epochs=num_epochs)\n",
        "\n"
      ],
      "metadata": {
        "colab": {
          "base_uri": "https://localhost:8080/"
        },
        "id": "gdw98skATBU8",
        "outputId": "a4b3b930-bf6c-4488-84c5-b08e0ecdc013"
      },
      "execution_count": null,
      "outputs": [
        {
          "output_type": "stream",
          "name": "stdout",
          "text": [
            "Epoch 1/10\n",
            "92/92 [==============================] - 60s 628ms/step - loss: 0.5976 - accuracy: 0.6860 - val_loss: 0.5080 - val_accuracy: 0.7498\n",
            "Epoch 2/10\n",
            "92/92 [==============================] - 58s 629ms/step - loss: 0.3487 - accuracy: 0.8482 - val_loss: 0.5596 - val_accuracy: 0.7772\n",
            "Epoch 3/10\n",
            "92/92 [==============================] - 64s 694ms/step - loss: 0.1444 - accuracy: 0.9504 - val_loss: 0.6760 - val_accuracy: 0.7450\n",
            "Epoch 4/10\n",
            "92/92 [==============================] - 58s 632ms/step - loss: 0.0532 - accuracy: 0.9844 - val_loss: 0.8435 - val_accuracy: 0.7539\n",
            "Epoch 5/10\n",
            "92/92 [==============================] - 57s 620ms/step - loss: 0.0348 - accuracy: 0.9892 - val_loss: 0.7571 - val_accuracy: 0.7232\n",
            "Epoch 6/10\n",
            "92/92 [==============================] - 63s 682ms/step - loss: 0.0310 - accuracy: 0.9911 - val_loss: 0.8867 - val_accuracy: 0.7081\n",
            "Epoch 7/10\n",
            "92/92 [==============================] - 63s 689ms/step - loss: 0.0088 - accuracy: 0.9979 - val_loss: 1.1796 - val_accuracy: 0.7252\n",
            "Epoch 8/10\n",
            "92/92 [==============================] - 62s 670ms/step - loss: 0.0043 - accuracy: 0.9990 - val_loss: 1.1502 - val_accuracy: 0.7341\n",
            "Epoch 9/10\n",
            "92/92 [==============================] - 58s 628ms/step - loss: 0.0095 - accuracy: 0.9978 - val_loss: 1.0935 - val_accuracy: 0.7116\n",
            "Epoch 10/10\n",
            "92/92 [==============================] - 57s 616ms/step - loss: 0.0096 - accuracy: 0.9978 - val_loss: 1.2179 - val_accuracy: 0.7252\n"
          ]
        }
      ]
    },
    {
      "cell_type": "code",
      "source": [
        "loss, accuracy = model.evaluate(xtest, ytest)\n",
        "print(f'Test Loss: {loss}')\n",
        "print(f'Test Accuracy: {accuracy}')"
      ],
      "metadata": {
        "colab": {
          "base_uri": "https://localhost:8080/"
        },
        "id": "IM3lunISaQZZ",
        "outputId": "60a6be7f-4179-4bb9-88d0-e1d207d8ab52"
      },
      "execution_count": null,
      "outputs": [
        {
          "output_type": "stream",
          "name": "stdout",
          "text": [
            "46/46 [==============================] - 4s 87ms/step - loss: 1.2179 - accuracy: 0.7252\n",
            "Test Loss: 1.2179148197174072\n",
            "Test Accuracy: 0.7252221703529358\n"
          ]
        }
      ]
    },
    {
      "cell_type": "code",
      "source": [
        "xtrain.shape , ytrain.shape , xtest.shape , ytest.shape"
      ],
      "metadata": {
        "colab": {
          "base_uri": "https://localhost:8080/"
        },
        "id": "yH3DmNqJg6Q_",
        "outputId": "9f39e2b6-aa9b-421a-d7c2-39d0325181f1"
      },
      "execution_count": null,
      "outputs": [
        {
          "output_type": "execute_result",
          "data": {
            "text/plain": [
              "((5850, 389), (5850,), (1463, 389), (1463,))"
            ]
          },
          "metadata": {},
          "execution_count": 222
        }
      ]
    },
    {
      "cell_type": "code",
      "source": [
        "padded_sequences"
      ],
      "metadata": {
        "colab": {
          "base_uri": "https://localhost:8080/"
        },
        "id": "kd2HZx6KNTod",
        "outputId": "ead2aec8-a783-4da7-f6bb-ab0ec68389c9"
      },
      "execution_count": null,
      "outputs": [
        {
          "output_type": "execute_result",
          "data": {
            "text/plain": [
              "array([[   0,    0,    0, ...,   19, 7870,  198],\n",
              "       [   0,    0,    0, ...,  460,  977, 1810],\n",
              "       [   0,    0,    0, ...,  347,   61,  882],\n",
              "       ...,\n",
              "       [   0,    0,    0, ...,  581,   58,   43],\n",
              "       [   0,    0,    0, ...,    2,  392,  156],\n",
              "       [   0,    0,    0, ...,  563,  780, 2203]], dtype=int32)"
            ]
          },
          "metadata": {},
          "execution_count": 223
        }
      ]
    },
    {
      "cell_type": "code",
      "source": [
        "labels"
      ],
      "metadata": {
        "colab": {
          "base_uri": "https://localhost:8080/"
        },
        "id": "2HtyYBdNNWZ9",
        "outputId": "c6c3575c-8dc3-45be-859c-bbd9a8e216d8"
      },
      "execution_count": null,
      "outputs": [
        {
          "output_type": "execute_result",
          "data": {
            "text/plain": [
              "array([0, 0, 0, ..., 1, 1, 0])"
            ]
          },
          "metadata": {},
          "execution_count": 224
        }
      ]
    }
  ]
}