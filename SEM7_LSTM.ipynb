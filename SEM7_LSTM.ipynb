{
  "nbformat": 4,
  "nbformat_minor": 0,
  "metadata": {
    "colab": {
      "provenance": [],
      "mount_file_id": "1WE-01baTBg8KnIDsEFrM6AxTjZp69Q-g",
      "authorship_tag": "ABX9TyPnMmt/Ja7DzjSsVHNLVdNB",
      "include_colab_link": true
    },
    "kernelspec": {
      "name": "python3",
      "display_name": "Python 3"
    },
    "language_info": {
      "name": "python"
    }
  },
  "cells": [
    {
      "cell_type": "markdown",
      "metadata": {
        "id": "view-in-github",
        "colab_type": "text"
      },
      "source": [
        "<a href=\"https://colab.research.google.com/github/Shreyash54/HealthMisinfoDetection/blob/main/SEM7_LSTM.ipynb\" target=\"_parent\"><img src=\"https://colab.research.google.com/assets/colab-badge.svg\" alt=\"Open In Colab\"/></a>"
      ]
    },
    {
      "cell_type": "code",
      "execution_count": 1,
      "metadata": {
        "id": "BrJgIp9K6WNY"
      },
      "outputs": [],
      "source": [
        "\n",
        "import pandas as pd\n",
        "import numpy as np\n",
        "from sklearn.model_selection import train_test_split\n",
        "from sklearn.preprocessing import LabelEncoder\n",
        "from tensorflow.keras.preprocessing.text import Tokenizer\n",
        "from tensorflow.keras.preprocessing.sequence import pad_sequences\n",
        "from tensorflow.keras.models import Sequential\n",
        "from tensorflow.keras.layers import Embedding, LSTM, Dense\n",
        "from tensorflow.keras.utils import to_categorical"
      ]
    },
    {
      "cell_type": "code",
      "source": [
        "df = pd.read_csv('/content/drive/MyDrive/HEALTH ASSURED/cleaned_dataset.csv')\n",
        "\n",
        "# Combine 'statement' and 'description' columns into a single 'text' column\n",
        "df['text'] = df['statement'] + ' ' + df['description']\n",
        "\n",
        "max_words = 10000  # Maximum number of words to keep based on word frequency\n",
        "max_sequence_length = 200  # Maximum length of input sequences\n",
        "\n",
        "# Ensure 'text' column contains string values and convert to lowercase\n",
        "df['text'] = df['text'].apply(lambda x: str(x).lower())\n",
        "\n",
        "tokenizer = Tokenizer(num_words=max_words)\n",
        "tokenizer.fit_on_texts(df['text'])\n",
        "sequences = tokenizer.texts_to_sequences(df['text'])\n",
        "X = pad_sequences(sequences, maxlen=max_sequence_length)"
      ],
      "metadata": {
        "id": "3dryrdzo7qeO"
      },
      "execution_count": 5,
      "outputs": []
    },
    {
      "cell_type": "code",
      "source": [
        "label_encoder = LabelEncoder()\n",
        "y = label_encoder.fit_transform(df['rating'])\n",
        "y = to_categorical(y)  # One-hot encode the labels\n",
        "X_train, X_test, y_train, y_test = train_test_split(X, y, test_size=0.2, random_state=42)\n",
        "\n",
        "# Define the LSTM model\n",
        "embedding_dim = 100\n",
        "lstm_units = 64"
      ],
      "metadata": {
        "id": "aQO4Cir572CV"
      },
      "execution_count": 6,
      "outputs": []
    },
    {
      "cell_type": "code",
      "source": [
        "model = Sequential()\n",
        "model.add(Embedding(input_dim=max_words, output_dim=embedding_dim, input_length=max_sequence_length))\n",
        "model.add(LSTM(lstm_units))\n",
        "model.add(Dense(len(label_encoder.classes_), activation='softmax'))\n",
        "\n",
        "\n",
        "model.compile(optimizer='adam', loss='categorical_crossentropy', metrics=['accuracy'])\n",
        "\n",
        "# Train the model\n",
        "epochs = 10\n",
        "batch_size = 64\n",
        "\n",
        "model.fit(X_train, y_train, epochs=epochs, batch_size=batch_size, validation_split=0.2)\n",
        "\n"
      ],
      "metadata": {
        "colab": {
          "base_uri": "https://localhost:8080/"
        },
        "id": "d6IU114V77VF",
        "outputId": "59c92619-cfce-4f57-ce5c-e94e5d0e7099"
      },
      "execution_count": 7,
      "outputs": [
        {
          "output_type": "stream",
          "name": "stdout",
          "text": [
            "Epoch 1/10\n",
            "7/7 [==============================] - 7s 545ms/step - loss: 0.6886 - accuracy: 0.5206 - val_loss: 0.6785 - val_accuracy: 0.5182\n",
            "Epoch 2/10\n",
            "7/7 [==============================] - 2s 221ms/step - loss: 0.6588 - accuracy: 0.7064 - val_loss: 0.6453 - val_accuracy: 0.7909\n",
            "Epoch 3/10\n",
            "7/7 [==============================] - 2s 221ms/step - loss: 0.5766 - accuracy: 0.8555 - val_loss: 0.5528 - val_accuracy: 0.7909\n",
            "Epoch 4/10\n",
            "7/7 [==============================] - 2s 240ms/step - loss: 0.4146 - accuracy: 0.9060 - val_loss: 0.4797 - val_accuracy: 0.8273\n",
            "Epoch 5/10\n",
            "7/7 [==============================] - 2s 237ms/step - loss: 0.2510 - accuracy: 0.9748 - val_loss: 0.4581 - val_accuracy: 0.8545\n",
            "Epoch 6/10\n",
            "7/7 [==============================] - 2s 240ms/step - loss: 0.1969 - accuracy: 0.9472 - val_loss: 0.3834 - val_accuracy: 0.8364\n",
            "Epoch 7/10\n",
            "7/7 [==============================] - 2s 284ms/step - loss: 0.1630 - accuracy: 0.9794 - val_loss: 0.3752 - val_accuracy: 0.8545\n",
            "Epoch 8/10\n",
            "7/7 [==============================] - 3s 475ms/step - loss: 0.1435 - accuracy: 0.9839 - val_loss: 0.3775 - val_accuracy: 0.8636\n",
            "Epoch 9/10\n",
            "7/7 [==============================] - 2s 239ms/step - loss: 0.1140 - accuracy: 0.9908 - val_loss: 0.3778 - val_accuracy: 0.8545\n",
            "Epoch 10/10\n",
            "7/7 [==============================] - 2s 243ms/step - loss: 0.0813 - accuracy: 0.9908 - val_loss: 0.3752 - val_accuracy: 0.8455\n"
          ]
        },
        {
          "output_type": "execute_result",
          "data": {
            "text/plain": [
              "<keras.src.callbacks.History at 0x7b6538ae1930>"
            ]
          },
          "metadata": {},
          "execution_count": 7
        }
      ]
    },
    {
      "cell_type": "code",
      "source": [
        "\n",
        "loss, accuracy = model.evaluate(X_test, y_test)\n",
        "print(f'Test loss: {loss}')\n",
        "print(f'Test accuracy: {accuracy}')\n",
        ""
      ],
      "metadata": {
        "colab": {
          "base_uri": "https://localhost:8080/"
        },
        "id": "TL9tWxUE8K4G",
        "outputId": "1fb3978f-1766-4a1b-ed9c-2520387e8f36"
      },
      "execution_count": 8,
      "outputs": [
        {
          "output_type": "stream",
          "name": "stdout",
          "text": [
            "5/5 [==============================] - 0s 32ms/step - loss: 0.3539 - accuracy: 0.8686\n",
            "Test loss: 0.3538789749145508\n",
            "Test accuracy: 0.8686131238937378\n"
          ]
        }
      ]
    },
    {
      "cell_type": "code",
      "source": [
        "\n",
        "# Make predictions on new statements (replace 'new_statements' with your own data)\n",
        "new_statements = [\"Is air pollution linked to greater risk of dementia?\"]\n",
        "new_sequences = tokenizer.texts_to_sequences(new_statements)\n",
        "new_sequences = pad_sequences(new_sequences, maxlen=max_sequence_length)\n",
        "predictions = model.predict(new_sequences)\n",
        "decoded_predictions = label_encoder.inverse_transform(np.argmax(predictions, axis=1))\n",
        "print(\"Predictions:\")\n",
        "for statement, prediction in zip(new_statements, decoded_predictions):\n",
        "    print(f'Statement: {statement}')\n",
        "    print(f'Prediction: {prediction}')"
      ],
      "metadata": {
        "colab": {
          "base_uri": "https://localhost:8080/"
        },
        "id": "2bSAWnw28QzJ",
        "outputId": "406354b9-c44b-4eff-dcb0-711f8ff57be2"
      },
      "execution_count": 10,
      "outputs": [
        {
          "output_type": "stream",
          "name": "stdout",
          "text": [
            "1/1 [==============================] - 0s 33ms/step\n",
            "Predictions:\n",
            "Statement: Is air pollution linked to greater risk of dementia?\n",
            "Prediction: True\n"
          ]
        }
      ]
    },
    {
      "cell_type": "code",
      "source": [
        "from sklearn.metrics import classification_report\n",
        "\n",
        "# Generate predictions on the test data\n",
        "y_pred = model.predict(X_test)\n",
        "\n",
        "# Convert one-hot encoded predictions to class labels (assuming y_pred is one-hot encoded)\n",
        "y_pred_classes = np.argmax(y_pred, axis=1)\n",
        "\n",
        "# Convert one-hot encoded true labels to class labels (assuming y_test is one-hot encoded)\n",
        "y_true_classes = np.argmax(y_test, axis=1)\n",
        "\n",
        "# Generate the classification report\n",
        "report = classification_report(y_true_classes, y_pred_classes)\n",
        "\n",
        "# Print the classification report\n",
        "print(report)"
      ],
      "metadata": {
        "colab": {
          "base_uri": "https://localhost:8080/"
        },
        "id": "S-42copw9Om1",
        "outputId": "bf11d118-7e9a-469c-bce3-a4a0e645ac3b"
      },
      "execution_count": 12,
      "outputs": [
        {
          "output_type": "stream",
          "name": "stdout",
          "text": [
            "5/5 [==============================] - 0s 53ms/step\n",
            "              precision    recall  f1-score   support\n",
            "\n",
            "           0       0.92      0.81      0.86        69\n",
            "           1       0.83      0.93      0.88        68\n",
            "\n",
            "    accuracy                           0.87       137\n",
            "   macro avg       0.87      0.87      0.87       137\n",
            "weighted avg       0.87      0.87      0.87       137\n",
            "\n"
          ]
        }
      ]
    },
    {
      "cell_type": "code",
      "source": [
        "from sklearn.metrics import confusion_matrix\n",
        "\n",
        "# Calculate the confusion matrix\n",
        "confusion_matrix_result = confusion_matrix(y_true_classes, y_pred_classes)\n",
        "\n",
        "# Extract TP, FP, TN, FN from the confusion matrix\n",
        "TP = confusion_matrix_result[1, 1]  # True Positives\n",
        "FP = confusion_matrix_result[0, 1]  # False Positives\n",
        "TN = confusion_matrix_result[0, 0]  # True Negatives\n",
        "FN = confusion_matrix_result[1, 0]  # False Negatives\n",
        "\n",
        "print(f\"True Positives (TP): {TP}\")\n",
        "print(f\"False Positives (FP): {FP}\")\n",
        "print(f\"True Negatives (TN): {TN}\")\n",
        "print(f\"False Negatives (FN): {FN}\")\n"
      ],
      "metadata": {
        "colab": {
          "base_uri": "https://localhost:8080/"
        },
        "id": "XliBYtgV8uQO",
        "outputId": "c12c6d08-a4c1-4ad9-f69e-213e15ad7b1d"
      },
      "execution_count": 13,
      "outputs": [
        {
          "output_type": "stream",
          "name": "stdout",
          "text": [
            "True Positives (TP): 63\n",
            "False Positives (FP): 13\n",
            "True Negatives (TN): 56\n",
            "False Negatives (FN): 5\n"
          ]
        }
      ]
    },
    {
      "cell_type": "code",
      "source": [
        "from sklearn.metrics import confusion_matrix\n",
        "\n",
        "# Calculate the confusion matrix\n",
        "confusion_matrix_result = confusion_matrix(y_true_classes, y_pred_classes)\n",
        "\n",
        "# Extract TP, FP, TN, FN from the confusion matrix\n",
        "TP = confusion_matrix_result[1, 1]  # True Positives\n",
        "FP = confusion_matrix_result[0, 1]  # False Positives\n",
        "TN = confusion_matrix_result[0, 0]  # True Negatives\n",
        "FN = confusion_matrix_result[1, 0]  # False Negatives\n",
        "\n",
        "print(f\"True Positives (TP): {TP}\")\n",
        "print(f\"False Positives (FP): {FP}\")\n",
        "print(f\"True Negatives (TN): {TN}\")\n",
        "print(f\"False Negatives (FN): {FN}\")\n"
      ],
      "metadata": {
        "colab": {
          "base_uri": "https://localhost:8080/"
        },
        "id": "r6CL4CsB9bYW",
        "outputId": "4d2c39dc-94ea-46c2-e45a-b69867efbb47"
      },
      "execution_count": 14,
      "outputs": [
        {
          "output_type": "stream",
          "name": "stdout",
          "text": [
            "True Positives (TP): 63\n",
            "False Positives (FP): 13\n",
            "True Negatives (TN): 56\n",
            "False Negatives (FN): 5\n"
          ]
        }
      ]
    },
    {
      "cell_type": "code",
      "source": [
        "from sklearn.metrics import roc_auc_score, roc_curve, auc\n",
        "import matplotlib.pyplot as plt\n",
        "\n",
        "# ... (your model training and evaluation code)\n",
        "\n",
        "# Calculate the ROC AUC score\n",
        "roc_auc = roc_auc_score(y_true_classes, y_pred_classes)\n",
        "\n",
        "# Calculate the ROC curve\n",
        "fpr, tpr, thresholds = roc_curve(y_true_classes, y_pred_classes)\n",
        "\n",
        "# Plot the ROC curve\n",
        "plt.figure(figsize=(8, 6))\n",
        "plt.plot(fpr, tpr, color='darkorange', lw=2, label='ROC curve (area = %0.2f)' % roc_auc)\n",
        "plt.plot([0, 1], [0, 1], color='navy', lw=2, linestyle='--')\n",
        "plt.xlim([0.0, 1.0])\n",
        "plt.ylim([0.0, 1.05])\n",
        "plt.xlabel('False Positive Rate')\n",
        "plt.ylabel('True Positive Rate')\n",
        "plt.title('Receiver Operating Characteristic')\n",
        "plt.legend(loc='lower right')\n",
        "plt.show()\n",
        "\n",
        "print(f\"AUC (Area Under the ROC Curve): {roc_auc}\")\n"
      ],
      "metadata": {
        "colab": {
          "base_uri": "https://localhost:8080/",
          "height": 581
        },
        "id": "jL6zMIzl9g9T",
        "outputId": "a6ef7287-053c-414e-aaaf-58b0423765db"
      },
      "execution_count": 17,
      "outputs": [
        {
          "output_type": "display_data",
          "data": {
            "text/plain": [
              "<Figure size 800x600 with 1 Axes>"
            ],
            "image/png": "[encoded data removed]"
          },
          "metadata": {}
        },
        {
          "output_type": "stream",
          "name": "stdout",
          "text": [
            "AUC (Area Under the ROC Curve): 0.8690323955669225\n"
          ]
        }
      ]
    }
  ]
}