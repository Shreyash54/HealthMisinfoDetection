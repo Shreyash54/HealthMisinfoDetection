{
  "nbformat": 4,
  "nbformat_minor": 0,
  "metadata": {
    "colab": {
      "provenance": [],
      "mount_file_id": "1UuC4SHunWyDMb5F1QnmegDuLijVz9hTL",
      "authorship_tag": "ABX9TyPISeV6BlzUcQxJDEhKKnj8",
      "include_colab_link": true
    },
    "kernelspec": {
      "name": "python3",
      "display_name": "Python 3"
    },
    "language_info": {
      "name": "python"
    }
  },
  "cells": [
    {
      "cell_type": "markdown",
      "metadata": {
        "id": "view-in-github",
        "colab_type": "text"
      },
      "source": [
        "<a href=\"https://colab.research.google.com/github/Shreyash54/HealthMisinfoDetection/blob/main/LSTM.ipynb\" target=\"_parent\"><img src=\"https://colab.research.google.com/assets/colab-badge.svg\" alt=\"Open In Colab\"/></a>"
      ]
    },
    {
      "cell_type": "code",
      "execution_count": null,
      "metadata": {
        "id": "oZPL-mjPxClu"
      },
      "outputs": [],
      "source": [
        "import pandas as pd\n",
        "import numpy as np\n",
        "from sklearn.model_selection import train_test_split\n",
        "from sklearn.preprocessing import LabelEncoder\n",
        "from tensorflow.keras.preprocessing.text import Tokenizer\n",
        "from tensorflow.keras.preprocessing.sequence import pad_sequences\n",
        "from tensorflow.keras.models import Sequential\n",
        "from tensorflow.keras.layers import Embedding, LSTM, Dense\n",
        "from tensorflow.keras.utils import to_categorical"
      ]
    },
    {
      "cell_type": "code",
      "source": [
        "df = pd.read_csv('/content/drive/MyDrive/cleaned_dataset.csv')\n",
        "\n",
        "# Combine 'statement' and 'description' columns into a single 'text' column\n",
        "df['text'] = df['statement'] + ' ' + df['description']"
      ],
      "metadata": {
        "id": "1sGq327bxQ4w"
      },
      "execution_count": null,
      "outputs": []
    },
    {
      "cell_type": "code",
      "source": [
        "max_words = 10000  # Maximum number of words to keep based on word frequency\n",
        "max_sequence_length = 200  # Maximum length of input sequences\n"
      ],
      "metadata": {
        "id": "9uFt8MVjxw_B"
      },
      "execution_count": null,
      "outputs": []
    },
    {
      "cell_type": "code",
      "source": [
        "# Ensure 'text' column contains string values and convert to lowercase\n",
        "df['text'] = df['text'].apply(lambda x: str(x).lower())\n",
        "\n",
        "tokenizer = Tokenizer(num_words=max_words)\n",
        "tokenizer.fit_on_texts(df['text'])\n",
        "sequences = tokenizer.texts_to_sequences(df['text'])\n",
        "X = pad_sequences(sequences, maxlen=max_sequence_length)\n"
      ],
      "metadata": {
        "id": "guc4Y5yKxsW7"
      },
      "execution_count": null,
      "outputs": []
    },
    {
      "cell_type": "code",
      "source": [
        "label_encoder = LabelEncoder()\n",
        "y = label_encoder.fit_transform(df['rating'])\n",
        "y = to_categorical(y)  # One-hot encode the labels\n",
        "X_train, X_test, y_train, y_test = train_test_split(X, y, test_size=0.2, random_state=42)\n",
        "\n",
        "# Define the LSTM model\n",
        "embedding_dim = 100\n",
        "lstm_units = 64\n"
      ],
      "metadata": {
        "id": "N827j01bzsHr"
      },
      "execution_count": null,
      "outputs": []
    },
    {
      "cell_type": "code",
      "source": [
        "model = Sequential()\n",
        "model.add(Embedding(input_dim=max_words, output_dim=embedding_dim, input_length=max_sequence_length))\n",
        "model.add(LSTM(lstm_units))\n",
        "model.add(Dense(len(label_encoder.classes_), activation='softmax'))"
      ],
      "metadata": {
        "id": "XqSJ3T7lzx2j"
      },
      "execution_count": null,
      "outputs": []
    },
    {
      "cell_type": "code",
      "source": [
        "model.compile(optimizer='adam', loss='categorical_crossentropy', metrics=['accuracy'])\n",
        "\n",
        "# Train the model\n",
        "epochs = 10\n",
        "batch_size = 64\n",
        "\n",
        "model.fit(X_train, y_train, epochs=epochs, batch_size=batch_size, validation_split=0.2)\n"
      ],
      "metadata": {
        "colab": {
          "base_uri": "https://localhost:8080/"
        },
        "id": "ZG0opyFkz0tS",
        "outputId": "40941de1-d2a6-441a-9d5d-87637df9d826"
      },
      "execution_count": null,
      "outputs": [
        {
          "output_type": "stream",
          "name": "stdout",
          "text": [
            "Epoch 1/10\n",
            "7/7 [==============================] - 5s 389ms/step - loss: 1.7617 - accuracy: 0.4450 - val_loss: 1.7168 - val_accuracy: 0.4909\n",
            "Epoch 2/10\n",
            "7/7 [==============================] - 2s 236ms/step - loss: 1.5976 - accuracy: 0.5046 - val_loss: 1.4410 - val_accuracy: 0.4909\n",
            "Epoch 3/10\n",
            "7/7 [==============================] - 2s 230ms/step - loss: 1.2160 - accuracy: 0.5023 - val_loss: 1.2523 - val_accuracy: 0.4909\n",
            "Epoch 4/10\n",
            "7/7 [==============================] - 2s 270ms/step - loss: 1.1844 - accuracy: 0.5183 - val_loss: 1.2185 - val_accuracy: 0.5545\n",
            "Epoch 5/10\n",
            "7/7 [==============================] - 3s 456ms/step - loss: 1.1175 - accuracy: 0.5321 - val_loss: 1.1760 - val_accuracy: 0.5000\n",
            "Epoch 6/10\n",
            "7/7 [==============================] - 2s 231ms/step - loss: 1.0217 - accuracy: 0.6399 - val_loss: 1.1425 - val_accuracy: 0.5909\n",
            "Epoch 7/10\n",
            "7/7 [==============================] - 2s 239ms/step - loss: 0.8757 - accuracy: 0.6812 - val_loss: 1.0926 - val_accuracy: 0.7091\n",
            "Epoch 8/10\n",
            "7/7 [==============================] - 2s 232ms/step - loss: 0.6719 - accuracy: 0.8096 - val_loss: 1.0309 - val_accuracy: 0.6909\n",
            "Epoch 9/10\n",
            "7/7 [==============================] - 2s 223ms/step - loss: 0.5466 - accuracy: 0.8716 - val_loss: 1.0347 - val_accuracy: 0.6182\n",
            "Epoch 10/10\n",
            "7/7 [==============================] - 2s 229ms/step - loss: 0.4364 - accuracy: 0.8807 - val_loss: 0.9754 - val_accuracy: 0.6636\n"
          ]
        },
        {
          "output_type": "execute_result",
          "data": {
            "text/plain": [
              "<keras.src.callbacks.History at 0x7e9659ee0160>"
            ]
          },
          "metadata": {},
          "execution_count": 27
        }
      ]
    },
    {
      "cell_type": "code",
      "source": [
        "loss, accuracy = model.evaluate(X_test, y_test)\n",
        "print(f'Test loss: {loss}')\n",
        "print(f'Test accuracy: {accuracy}')"
      ],
      "metadata": {
        "colab": {
          "base_uri": "https://localhost:8080/"
        },
        "id": "rasdk_2Hz-pz",
        "outputId": "abc68800-8574-4d76-d9e1-6dcedba4cd68"
      },
      "execution_count": null,
      "outputs": [
        {
          "output_type": "stream",
          "name": "stdout",
          "text": [
            "5/5 [==============================] - 0s 28ms/step - loss: 0.8819 - accuracy: 0.7372\n",
            "Test loss: 0.8819103240966797\n",
            "Test accuracy: 0.7372262477874756\n"
          ]
        }
      ]
    },
    {
      "cell_type": "code",
      "source": [
        "# Make predictions on new statements (replace 'new_statements' with your own data)\n",
        "new_statements = [\"Is air pollution linked to greater risk of dementia?\"]\n",
        "new_sequences = tokenizer.texts_to_sequences(new_statements)\n",
        "new_sequences = pad_sequences(new_sequences, maxlen=max_sequence_length)\n",
        "predictions = model.predict(new_sequences)"
      ],
      "metadata": {
        "colab": {
          "base_uri": "https://localhost:8080/"
        },
        "id": "pcWlkzLI0ZPx",
        "outputId": "a65fa9c0-c53a-4612-db36-d3230bdcd746"
      },
      "execution_count": null,
      "outputs": [
        {
          "output_type": "stream",
          "name": "stdout",
          "text": [
            "1/1 [==============================] - 0s 432ms/step\n"
          ]
        }
      ]
    },
    {
      "cell_type": "code",
      "source": [
        "decoded_predictions = label_encoder.inverse_transform(np.argmax(predictions, axis=1))\n",
        "print(\"Predictions:\")\n",
        "for statement, prediction in zip(new_statements, decoded_predictions):\n",
        "    print(f'Statement: {statement}')\n",
        "    print(f'Prediction: {prediction}')"
      ],
      "metadata": {
        "colab": {
          "base_uri": "https://localhost:8080/"
        },
        "id": "IViUyKQh0fhV",
        "outputId": "0a185d99-86de-4f96-a9cb-7acbc973945d"
      },
      "execution_count": null,
      "outputs": [
        {
          "output_type": "stream",
          "name": "stdout",
          "text": [
            "Predictions:\n",
            "Statement: Is air pollution linked to greater risk of dementia?\n",
            "Prediction: unproven\n"
          ]
        }
      ]
    }
  ]
}