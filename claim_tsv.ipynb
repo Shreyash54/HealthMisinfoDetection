{
  "nbformat": 4,
  "nbformat_minor": 0,
  "metadata": {
    "colab": {
      "provenance": [],
      "mount_file_id": "1DcVNKQhUXOeUWfi33xybq_A6FYm2MNU3",
      "authorship_tag": "ABX9TyMImFHOxWY0vNSSosPBLGRD",
      "include_colab_link": true
    },
    "kernelspec": {
      "name": "python3",
      "display_name": "Python 3"
    },
    "language_info": {
      "name": "python"
    }
  },
  "cells": [
    {
      "cell_type": "markdown",
      "metadata": {
        "id": "view-in-github",
        "colab_type": "text"
      },
      "source": [
        "<a href=\"https://colab.research.google.com/github/Shreyash54/HealthMisinfoDetection/blob/main/claim_tsv.ipynb\" target=\"_parent\"><img src=\"https://colab.research.google.com/assets/colab-badge.svg\" alt=\"Open In Colab\"/></a>"
      ]
    },
    {
      "cell_type": "code",
      "execution_count": null,
      "metadata": {
        "id": "h1KsDqW9TRYj",
        "colab": {
          "base_uri": "https://localhost:8080/"
        },
        "outputId": "3c1cd032-f4fa-4c23-8141-6a593b4ce684"
      },
      "outputs": [
        {
          "output_type": "stream",
          "name": "stdout",
          "text": [
            "Successfully made csv file\n"
          ]
        }
      ],
      "source": [
        "import pandas as pd\n",
        "import re\n",
        "\n",
        "\n",
        "# reading given tsv file\n",
        "with open(\"/content/drive/MyDrive/Colab Notebooks/dev.tsv\", 'r') as myfile:\n",
        "  with open(\"dev.csv\", 'w') as csv_file:\n",
        "    for line in myfile:\n",
        "\n",
        "      # Replace every tab with comma\n",
        "      fileContent = re.sub(\"\\t\", \",\", line)\n",
        "\n",
        "      # Writing into csv file\n",
        "      csv_file.write(fileContent)\n",
        "\n",
        "# output\n",
        "print(\"Successfully made csv file\")\n",
        "\n",
        "\n"
      ]
    },
    {
      "cell_type": "code",
      "source": [
        "import pandas as pd\n",
        "\n",
        "# Read the TSV file into a pandas DataFrame\n",
        "df = pd.read_csv(\"/content/drive/MyDrive/Colab Notebooks/dev.tsv\", sep='\\t')\n",
        "\n",
        "# Display the first few rows of the DataFrame\n",
        "print(df.shape)"
      ],
      "metadata": {
        "colab": {
          "base_uri": "https://localhost:8080/"
        },
        "id": "2dNd9R_Rwva1",
        "outputId": "740a4a6f-6788-4442-f301-00da67c76c05"
      },
      "execution_count": null,
      "outputs": [
        {
          "output_type": "stream",
          "name": "stdout",
          "text": [
            "(1221, 9)\n"
          ]
        }
      ]
    },
    {
      "cell_type": "code",
      "source": [
        "df.isnull().sum()\n"
      ],
      "metadata": {
        "colab": {
          "base_uri": "https://localhost:8080/"
        },
        "id": "xL6wNYvKztkb",
        "outputId": "7e9ee0ec-69b4-451f-f167-6ea8d4fc25bb"
      },
      "execution_count": null,
      "outputs": [
        {
          "output_type": "execute_result",
          "data": {
            "text/plain": [
              "claim_id            0\n",
              "claim               2\n",
              "date_published    245\n",
              "explanation         2\n",
              "fact_checkers       4\n",
              "main_text           4\n",
              "sources             5\n",
              "label               6\n",
              "subjects            7\n",
              "dtype: int64"
            ]
          },
          "metadata": {},
          "execution_count": 4
        }
      ]
    },
    {
      "cell_type": "code",
      "source": [
        "df_cleaned = df.dropna(subset=['sources'])\n",
        "\n",
        "# Print the cleaned DataFrame\n",
        "print(df_cleaned.isnull().sum())"
      ],
      "metadata": {
        "colab": {
          "base_uri": "https://localhost:8080/"
        },
        "id": "hiMPARMB0_k7",
        "outputId": "34434fbb-b0cf-40f1-e4d3-0f6d6ff467ab"
      },
      "execution_count": null,
      "outputs": [
        {
          "output_type": "stream",
          "name": "stdout",
          "text": [
            "claim_id            0\n",
            "claim               0\n",
            "date_published    243\n",
            "explanation         0\n",
            "fact_checkers       0\n",
            "main_text           0\n",
            "sources             0\n",
            "label               1\n",
            "subjects            2\n",
            "dtype: int64\n"
          ]
        }
      ]
    },
    {
      "cell_type": "code",
      "source": [],
      "metadata": {
        "id": "QPwKvk9F39Vo"
      },
      "execution_count": null,
      "outputs": []
    },
    {
      "cell_type": "code",
      "source": [
        "df.isnull().sum()"
      ],
      "metadata": {
        "colab": {
          "base_uri": "https://localhost:8080/"
        },
        "id": "i-CQ97-T3OH0",
        "outputId": "55c65a95-1935-47ab-e5a6-67ee87b43107"
      },
      "execution_count": null,
      "outputs": [
        {
          "output_type": "execute_result",
          "data": {
            "text/plain": [
              "claim_id            0\n",
              "claim               2\n",
              "date_published    245\n",
              "explanation         2\n",
              "fact_checkers       4\n",
              "main_text           4\n",
              "sources             5\n",
              "label               6\n",
              "subjects            7\n",
              "dtype: int64"
            ]
          },
          "metadata": {},
          "execution_count": 6
        }
      ]
    }
  ]
}