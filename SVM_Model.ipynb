{
  "nbformat": 4,
  "nbformat_minor": 0,
  "metadata": {
    "colab": {
      "provenance": [],
      "mount_file_id": "1VmQVjjINpogAO1rak1GZjku0HDagUdaQ",
      "authorship_tag": "ABX9TyOYNknSQn4dQZmLXVVXHxra",
      "include_colab_link": true
    },
    "kernelspec": {
      "name": "python3",
      "display_name": "Python 3"
    },
    "language_info": {
      "name": "python"
    }
  },
  "cells": [
    {
      "cell_type": "markdown",
      "metadata": {
        "id": "view-in-github",
        "colab_type": "text"
      },
      "source": [
        "<a href=\"https://colab.research.google.com/github/Shreyash54/HealthMisinfoDetection/blob/main/SVM_Model.ipynb\" target=\"_parent\"><img src=\"https://colab.research.google.com/assets/colab-badge.svg\" alt=\"Open In Colab\"/></a>"
      ]
    },
    {
      "cell_type": "code",
      "execution_count": 6,
      "metadata": {
        "id": "0uGEmnLMKT80"
      },
      "outputs": [],
      "source": [
        "import pandas as pd\n",
        "from sklearn.feature_extraction.text import TfidfVectorizer\n",
        "from sklearn.svm import SVC\n",
        "from sklearn.model_selection import train_test_split\n",
        "from sklearn.metrics import accuracy_score, classification_report\n"
      ]
    },
    {
      "cell_type": "code",
      "source": [
        "\n",
        
        "df = pd.read_csv('/content/drive/MyDrive/cleaned_dataset.csv')\n",
        "\n",
        "# Combine 'statement' and 'description' columns into a single 'text' column\n",
        "df['text'] = df['statement'] + ' ' + df['description']"
      ],
      "metadata": {
        "id": "xIKyuWO1K4rp"
      },
      "execution_count": 2,
      "outputs": []
    },
    {
      "cell_type": "code",
      "source": [
        "# Handle missing values by replacing NaN with empty strings\n",
        "df['text'].fillna('', inplace=True)\n"
      ],
      "metadata": {
        "id": "ReYvrCbsPNak"
      },
      "execution_count": 8,
      "outputs": []
    },
    {
      "cell_type": "code",
      "source": [
        "tfidf_vectorizer = TfidfVectorizer(max_features=1000)  # Adjust max_features as needed\n",
        "X_tfidf = tfidf_vectorizer.fit_transform(df['text'])"
      ],
      "metadata": {
        "id": "_AoTn39aK9fZ"
      },
      "execution_count": 9,
      "outputs": []
    },
    {
      "cell_type": "code",
      "source": [
        "y = df['rating']\n",
        "\n",
        "# Split the data into training and testing sets\n",
        "X_train, X_test, y_train, y_test = train_test_split(X_tfidf, y, test_size=0.2, random_state=42)\n"
      ],
      "metadata": {
        "id": "45d9N-bXPUyn"
      },
      "execution_count": 10,
      "outputs": []
    },
    {
      "cell_type": "code",
      "source": [
        "# Create and train an SVM classifier\n",
        "svm_classifier = SVC(kernel='linear', C=1.0, random_state=42)  # You can adjust the kernel and C parameter as needed\n",
        "svm_classifier.fit(X_train, y_train)\n",
        "\n",
        "# Make predictions on the test set\n",
        "y_pred = svm_classifier.predict(X_test)\n"
      ],
      "metadata": {
        "id": "pGi3AaBtPXeD"
      },
      "execution_count": 11,
      "outputs": []
    },
    {
      "cell_type": "code",
      "source": [
        "accuracy = accuracy_score(y_test, y_pred)\n",
        "report = classification_report(y_test, y_pred)\n"
      ],
      "metadata": {
        "colab": {
          "base_uri": "https://localhost:8080/"
        },
        "id": "CmMYCvAcPZ4E",
        "outputId": "eb9daa7b-26da-4a4f-bc78-609da749a75a"
      },
      "execution_count": 12,
      "outputs": [
        {
          "output_type": "stream",
          "name": "stderr",
          "text": [
            "/usr/local/lib/python3.10/dist-packages/sklearn/metrics/_classification.py:1344: UndefinedMetricWarning: Precision and F-score are ill-defined and being set to 0.0 in labels with no predicted samples. Use `zero_division` parameter to control this behavior.\n",
            "  _warn_prf(average, modifier, msg_start, len(result))\n",
            "/usr/local/lib/python3.10/dist-packages/sklearn/metrics/_classification.py:1344: UndefinedMetricWarning: Precision and F-score are ill-defined and being set to 0.0 in labels with no predicted samples. Use `zero_division` parameter to control this behavior.\n",
            "  _warn_prf(average, modifier, msg_start, len(result))\n",
            "/usr/local/lib/python3.10/dist-packages/sklearn/metrics/_classification.py:1344: UndefinedMetricWarning: Precision and F-score are ill-defined and being set to 0.0 in labels with no predicted samples. Use `zero_division` parameter to control this behavior.\n",
            "  _warn_prf(average, modifier, msg_start, len(result))\n"
          ]
        }
      ]
    },
    {
      "cell_type": "code",
      "source": [
        "print(f'Accuracy: {accuracy}')\n",
        "print(f'Classification Report:\\n{report}')"
      ],
      "metadata": {
        "colab": {
          "base_uri": "https://localhost:8080/"
        },
        "id": "pI8CVpdSPcif",
        "outputId": "c7defc21-6cfa-4cc8-897b-e84ca1a6dd07"
      },
      "execution_count": 13,
      "outputs": [
        {
          "output_type": "stream",
          "name": "stdout",
          "text": [
            "Accuracy: 0.8248175182481752\n",
            "Classification Report:\n",
            "              precision    recall  f1-score   support\n",
            "\n",
            "       FALSE       0.85      0.97      0.90        68\n",
            "        TRUE       0.00      0.00      0.00        13\n",
            "     mixture       0.00      0.00      0.00         3\n",
            "mostly-false       0.00      0.00      0.00         1\n",
            " mostly-true       0.00      0.00      0.00         3\n",
            "    unproven       0.80      0.96      0.87        49\n",
            "\n",
            "    accuracy                           0.82       137\n",
            "   macro avg       0.27      0.32      0.30       137\n",
            "weighted avg       0.70      0.82      0.76       137\n",
            "\n"
          ]
        }
      ]
    }
  ]
}
